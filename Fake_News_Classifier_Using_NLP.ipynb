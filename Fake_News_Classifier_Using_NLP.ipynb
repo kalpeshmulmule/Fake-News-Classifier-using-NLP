{
  "nbformat": 4,
  "nbformat_minor": 0,
  "metadata": {
    "kernelspec": {
      "display_name": "Python 3",
      "language": "python",
      "name": "python3"
    },
    "language_info": {
      "codemirror_mode": {
        "name": "ipython",
        "version": 3
      },
      "file_extension": ".py",
      "mimetype": "text/x-python",
      "name": "python",
      "nbconvert_exporter": "python",
      "pygments_lexer": "ipython3",
      "version": "3.8.2"
    },
    "colab": {
      "name": "Fake News Classifier Using NLP.ipynb",
      "provenance": []
    }
  },
  "cells": [
    {
      "cell_type": "markdown",
      "metadata": {
        "id": "EJbxlvMwNEIq"
      },
      "source": [
        "# Fake News Classifier Using Natural Language Processing ( NLP ) :"
      ]
    },
    {
      "cell_type": "markdown",
      "metadata": {
        "id": "eVoYq7bHNEIt"
      },
      "source": [
        "#### I will be dividing This Project into 2 parts , First I will try to come up with solution of this classification via Normal algorithms stepwise,then I will create another section by using pipeline"
      ]
    },
    {
      "cell_type": "code",
      "metadata": {
        "id": "u1ZPtWXjekIf"
      },
      "source": [
        ""
      ],
      "execution_count": null,
      "outputs": []
    },
    {
      "cell_type": "markdown",
      "metadata": {
        "id": "XYdj1_s_NEIu"
      },
      "source": [
        "## Basic Data Exploration : "
      ]
    },
    {
      "cell_type": "code",
      "metadata": {
        "id": "Keq19beNNEIu"
      },
      "source": [
        "import seaborn as sns\n",
        "import numpy as np\n",
        "import pandas as pd\n",
        "import matplotlib.pyplot as plt\n",
        "%matplotlib inline"
      ],
      "execution_count": 1,
      "outputs": []
    },
    {
      "cell_type": "code",
      "metadata": {
        "id": "rvg_EiXuNEIv"
      },
      "source": [
        "df=pd.read_csv('train.csv')"
      ],
      "execution_count": 2,
      "outputs": []
    },
    {
      "cell_type": "code",
      "metadata": {
        "colab": {
          "base_uri": "https://localhost:8080/",
          "height": 204
        },
        "id": "unKo6S2ZNEIv",
        "outputId": "db421e04-51cb-47ba-e8bb-bd7847563fb7"
      },
      "source": [
        "df.head()"
      ],
      "execution_count": 3,
      "outputs": [
        {
          "output_type": "execute_result",
          "data": {
            "text/html": [
              "<div>\n",
              "<style scoped>\n",
              "    .dataframe tbody tr th:only-of-type {\n",
              "        vertical-align: middle;\n",
              "    }\n",
              "\n",
              "    .dataframe tbody tr th {\n",
              "        vertical-align: top;\n",
              "    }\n",
              "\n",
              "    .dataframe thead th {\n",
              "        text-align: right;\n",
              "    }\n",
              "</style>\n",
              "<table border=\"1\" class=\"dataframe\">\n",
              "  <thead>\n",
              "    <tr style=\"text-align: right;\">\n",
              "      <th></th>\n",
              "      <th>id</th>\n",
              "      <th>title</th>\n",
              "      <th>author</th>\n",
              "      <th>text</th>\n",
              "      <th>label</th>\n",
              "    </tr>\n",
              "  </thead>\n",
              "  <tbody>\n",
              "    <tr>\n",
              "      <th>0</th>\n",
              "      <td>0</td>\n",
              "      <td>House Dem Aide: We Didn’t Even See Comey’s Let...</td>\n",
              "      <td>Darrell Lucus</td>\n",
              "      <td>House Dem Aide: We Didn’t Even See Comey’s Let...</td>\n",
              "      <td>1</td>\n",
              "    </tr>\n",
              "    <tr>\n",
              "      <th>1</th>\n",
              "      <td>1</td>\n",
              "      <td>FLYNN: Hillary Clinton, Big Woman on Campus - ...</td>\n",
              "      <td>Daniel J. Flynn</td>\n",
              "      <td>Ever get the feeling your life circles the rou...</td>\n",
              "      <td>0</td>\n",
              "    </tr>\n",
              "    <tr>\n",
              "      <th>2</th>\n",
              "      <td>2</td>\n",
              "      <td>Why the Truth Might Get You Fired</td>\n",
              "      <td>Consortiumnews.com</td>\n",
              "      <td>Why the Truth Might Get You Fired October 29, ...</td>\n",
              "      <td>1</td>\n",
              "    </tr>\n",
              "    <tr>\n",
              "      <th>3</th>\n",
              "      <td>3</td>\n",
              "      <td>15 Civilians Killed In Single US Airstrike Hav...</td>\n",
              "      <td>Jessica Purkiss</td>\n",
              "      <td>Videos 15 Civilians Killed In Single US Airstr...</td>\n",
              "      <td>1</td>\n",
              "    </tr>\n",
              "    <tr>\n",
              "      <th>4</th>\n",
              "      <td>4</td>\n",
              "      <td>Iranian woman jailed for fictional unpublished...</td>\n",
              "      <td>Howard Portnoy</td>\n",
              "      <td>Print \\nAn Iranian woman has been sentenced to...</td>\n",
              "      <td>1</td>\n",
              "    </tr>\n",
              "  </tbody>\n",
              "</table>\n",
              "</div>"
            ],
            "text/plain": [
              "   id  ... label\n",
              "0   0  ...     1\n",
              "1   1  ...     0\n",
              "2   2  ...     1\n",
              "3   3  ...     1\n",
              "4   4  ...     1\n",
              "\n",
              "[5 rows x 5 columns]"
            ]
          },
          "metadata": {
            "tags": []
          },
          "execution_count": 3
        }
      ]
    },
    {
      "cell_type": "code",
      "metadata": {
        "colab": {
          "base_uri": "https://localhost:8080/"
        },
        "id": "ihoC5EMgNEIx",
        "outputId": "ef4549b9-d099-427a-b8df-3e1681b00f1d"
      },
      "source": [
        "df.columns"
      ],
      "execution_count": 4,
      "outputs": [
        {
          "output_type": "execute_result",
          "data": {
            "text/plain": [
              "Index(['id', 'title', 'author', 'text', 'label'], dtype='object')"
            ]
          },
          "metadata": {
            "tags": []
          },
          "execution_count": 4
        }
      ]
    },
    {
      "cell_type": "code",
      "metadata": {
        "colab": {
          "base_uri": "https://localhost:8080/",
          "height": 297
        },
        "id": "B9zuhLIDNEIx",
        "outputId": "70d11042-2647-4465-b8d2-ff1b512b4dfc"
      },
      "source": [
        "df.describe()"
      ],
      "execution_count": 5,
      "outputs": [
        {
          "output_type": "execute_result",
          "data": {
            "text/html": [
              "<div>\n",
              "<style scoped>\n",
              "    .dataframe tbody tr th:only-of-type {\n",
              "        vertical-align: middle;\n",
              "    }\n",
              "\n",
              "    .dataframe tbody tr th {\n",
              "        vertical-align: top;\n",
              "    }\n",
              "\n",
              "    .dataframe thead th {\n",
              "        text-align: right;\n",
              "    }\n",
              "</style>\n",
              "<table border=\"1\" class=\"dataframe\">\n",
              "  <thead>\n",
              "    <tr style=\"text-align: right;\">\n",
              "      <th></th>\n",
              "      <th>id</th>\n",
              "      <th>label</th>\n",
              "    </tr>\n",
              "  </thead>\n",
              "  <tbody>\n",
              "    <tr>\n",
              "      <th>count</th>\n",
              "      <td>20800.000000</td>\n",
              "      <td>20800.000000</td>\n",
              "    </tr>\n",
              "    <tr>\n",
              "      <th>mean</th>\n",
              "      <td>10399.500000</td>\n",
              "      <td>0.500625</td>\n",
              "    </tr>\n",
              "    <tr>\n",
              "      <th>std</th>\n",
              "      <td>6004.587135</td>\n",
              "      <td>0.500012</td>\n",
              "    </tr>\n",
              "    <tr>\n",
              "      <th>min</th>\n",
              "      <td>0.000000</td>\n",
              "      <td>0.000000</td>\n",
              "    </tr>\n",
              "    <tr>\n",
              "      <th>25%</th>\n",
              "      <td>5199.750000</td>\n",
              "      <td>0.000000</td>\n",
              "    </tr>\n",
              "    <tr>\n",
              "      <th>50%</th>\n",
              "      <td>10399.500000</td>\n",
              "      <td>1.000000</td>\n",
              "    </tr>\n",
              "    <tr>\n",
              "      <th>75%</th>\n",
              "      <td>15599.250000</td>\n",
              "      <td>1.000000</td>\n",
              "    </tr>\n",
              "    <tr>\n",
              "      <th>max</th>\n",
              "      <td>20799.000000</td>\n",
              "      <td>1.000000</td>\n",
              "    </tr>\n",
              "  </tbody>\n",
              "</table>\n",
              "</div>"
            ],
            "text/plain": [
              "                 id         label\n",
              "count  20800.000000  20800.000000\n",
              "mean   10399.500000      0.500625\n",
              "std     6004.587135      0.500012\n",
              "min        0.000000      0.000000\n",
              "25%     5199.750000      0.000000\n",
              "50%    10399.500000      1.000000\n",
              "75%    15599.250000      1.000000\n",
              "max    20799.000000      1.000000"
            ]
          },
          "metadata": {
            "tags": []
          },
          "execution_count": 5
        }
      ]
    },
    {
      "cell_type": "code",
      "metadata": {
        "colab": {
          "base_uri": "https://localhost:8080/"
        },
        "id": "EmjGY6GVNEIy",
        "outputId": "8459ba56-828f-447c-e800-ba9ba0987a6c"
      },
      "source": [
        "df.info()"
      ],
      "execution_count": 6,
      "outputs": [
        {
          "output_type": "stream",
          "text": [
            "<class 'pandas.core.frame.DataFrame'>\n",
            "RangeIndex: 20800 entries, 0 to 20799\n",
            "Data columns (total 5 columns):\n",
            " #   Column  Non-Null Count  Dtype \n",
            "---  ------  --------------  ----- \n",
            " 0   id      20800 non-null  int64 \n",
            " 1   title   20242 non-null  object\n",
            " 2   author  18843 non-null  object\n",
            " 3   text    20761 non-null  object\n",
            " 4   label   20800 non-null  int64 \n",
            "dtypes: int64(2), object(3)\n",
            "memory usage: 812.6+ KB\n"
          ],
          "name": "stdout"
        }
      ]
    },
    {
      "cell_type": "markdown",
      "metadata": {
        "id": "6WFPT39SNEIy"
      },
      "source": [
        "## Some Exploratory Data Analysis :"
      ]
    },
    {
      "cell_type": "code",
      "metadata": {
        "colab": {
          "base_uri": "https://localhost:8080/"
        },
        "id": "1HanxlILNEIy",
        "outputId": "f022a5e4-ead0-43c5-f060-d7222230add3"
      },
      "source": [
        "df.isnull().sum()"
      ],
      "execution_count": 7,
      "outputs": [
        {
          "output_type": "execute_result",
          "data": {
            "text/plain": [
              "id           0\n",
              "title      558\n",
              "author    1957\n",
              "text        39\n",
              "label        0\n",
              "dtype: int64"
            ]
          },
          "metadata": {
            "tags": []
          },
          "execution_count": 7
        }
      ]
    },
    {
      "cell_type": "code",
      "metadata": {
        "colab": {
          "base_uri": "https://localhost:8080/",
          "height": 296
        },
        "id": "eIxhOpztNEIz",
        "outputId": "fe50bf71-6669-42df-861b-da5821e4ef28"
      },
      "source": [
        "sns.set_style('darkgrid')\n",
        "sns.countplot(x='label',data=df)"
      ],
      "execution_count": 8,
      "outputs": [
        {
          "output_type": "execute_result",
          "data": {
            "text/plain": [
              "<matplotlib.axes._subplots.AxesSubplot at 0x7fc3e425cad0>"
            ]
          },
          "metadata": {
            "tags": []
          },
          "execution_count": 8
        },
        {
          "output_type": "display_data",
          "data": {
            "image/png": "[encoded data removed]",
            "text/plain": [
              "<Figure size 432x288 with 1 Axes>"
            ]
          },
          "metadata": {
            "tags": []
          }
        }
      ]
    },
    {
      "cell_type": "code",
      "metadata": {
        "colab": {
          "base_uri": "https://localhost:8080/",
          "height": 142
        },
        "id": "EzM2Sy9_NEIz",
        "outputId": "88ec4009-d1ce-499a-e330-93cb557f5e12"
      },
      "source": [
        "df.groupby('label').count()"
      ],
      "execution_count": 9,
      "outputs": [
        {
          "output_type": "execute_result",
          "data": {
            "text/html": [
              "<div>\n",
              "<style scoped>\n",
              "    .dataframe tbody tr th:only-of-type {\n",
              "        vertical-align: middle;\n",
              "    }\n",
              "\n",
              "    .dataframe tbody tr th {\n",
              "        vertical-align: top;\n",
              "    }\n",
              "\n",
              "    .dataframe thead th {\n",
              "        text-align: right;\n",
              "    }\n",
              "</style>\n",
              "<table border=\"1\" class=\"dataframe\">\n",
              "  <thead>\n",
              "    <tr style=\"text-align: right;\">\n",
              "      <th></th>\n",
              "      <th>id</th>\n",
              "      <th>title</th>\n",
              "      <th>author</th>\n",
              "      <th>text</th>\n",
              "    </tr>\n",
              "    <tr>\n",
              "      <th>label</th>\n",
              "      <th></th>\n",
              "      <th></th>\n",
              "      <th></th>\n",
              "      <th></th>\n",
              "    </tr>\n",
              "  </thead>\n",
              "  <tbody>\n",
              "    <tr>\n",
              "      <th>0</th>\n",
              "      <td>10387</td>\n",
              "      <td>10387</td>\n",
              "      <td>10361</td>\n",
              "      <td>10387</td>\n",
              "    </tr>\n",
              "    <tr>\n",
              "      <th>1</th>\n",
              "      <td>10413</td>\n",
              "      <td>9855</td>\n",
              "      <td>8482</td>\n",
              "      <td>10374</td>\n",
              "    </tr>\n",
              "  </tbody>\n",
              "</table>\n",
              "</div>"
            ],
            "text/plain": [
              "          id  title  author   text\n",
              "label                             \n",
              "0      10387  10387   10361  10387\n",
              "1      10413   9855    8482  10374"
            ]
          },
          "metadata": {
            "tags": []
          },
          "execution_count": 9
        }
      ]
    },
    {
      "cell_type": "code",
      "metadata": {
        "id": "C_kxZimlNEI0"
      },
      "source": [
        "df['length']=df['title'].astype(str).apply(len)"
      ],
      "execution_count": 10,
      "outputs": []
    },
    {
      "cell_type": "code",
      "metadata": {
        "colab": {
          "base_uri": "https://localhost:8080/",
          "height": 282
        },
        "id": "H2DJFfeeNEI0",
        "outputId": "f9e5da3e-3b1c-4515-8a30-70d064218aa1"
      },
      "source": [
        "df['length'].hist()"
      ],
      "execution_count": 11,
      "outputs": [
        {
          "output_type": "execute_result",
          "data": {
            "text/plain": [
              "<matplotlib.axes._subplots.AxesSubplot at 0x7fc3e311e490>"
            ]
          },
          "metadata": {
            "tags": []
          },
          "execution_count": 11
        },
        {
          "output_type": "display_data",
          "data": {
            "image/png": "[encoded data removed]",
            "text/plain": [
              "<Figure size 432x288 with 1 Axes>"
            ]
          },
          "metadata": {
            "tags": []
          }
        }
      ]
    },
    {
      "cell_type": "code",
      "metadata": {
        "id": "wZEVuofrNEI0"
      },
      "source": [
        "df=df.dropna()\n",
        "messages=df.copy()\n",
        "\n",
        "\n"
      ],
      "execution_count": 12,
      "outputs": []
    },
    {
      "cell_type": "code",
      "metadata": {
        "id": "yGel2t9tNEI1"
      },
      "source": [
        "messages.reset_index(inplace=True)"
      ],
      "execution_count": 13,
      "outputs": []
    },
    {
      "cell_type": "code",
      "metadata": {
        "colab": {
          "base_uri": "https://localhost:8080/",
          "height": 529
        },
        "id": "SeSOmTuCNEI1",
        "outputId": "31b08d2a-3af2-4878-c9be-c346574588db"
      },
      "source": [
        "messages.head(10)"
      ],
      "execution_count": 14,
      "outputs": [
        {
          "output_type": "execute_result",
          "data": {
            "text/html": [
              "<div>\n",
              "<style scoped>\n",
              "    .dataframe tbody tr th:only-of-type {\n",
              "        vertical-align: middle;\n",
              "    }\n",
              "\n",
              "    .dataframe tbody tr th {\n",
              "        vertical-align: top;\n",
              "    }\n",
              "\n",
              "    .dataframe thead th {\n",
              "        text-align: right;\n",
              "    }\n",
              "</style>\n",
              "<table border=\"1\" class=\"dataframe\">\n",
              "  <thead>\n",
              "    <tr style=\"text-align: right;\">\n",
              "      <th></th>\n",
              "      <th>index</th>\n",
              "      <th>id</th>\n",
              "      <th>title</th>\n",
              "      <th>author</th>\n",
              "      <th>text</th>\n",
              "      <th>label</th>\n",
              "      <th>length</th>\n",
              "    </tr>\n",
              "  </thead>\n",
              "  <tbody>\n",
              "    <tr>\n",
              "      <th>0</th>\n",
              "      <td>0</td>\n",
              "      <td>0</td>\n",
              "      <td>House Dem Aide: We Didn’t Even See Comey’s Let...</td>\n",
              "      <td>Darrell Lucus</td>\n",
              "      <td>House Dem Aide: We Didn’t Even See Comey’s Let...</td>\n",
              "      <td>1</td>\n",
              "      <td>81</td>\n",
              "    </tr>\n",
              "    <tr>\n",
              "      <th>1</th>\n",
              "      <td>1</td>\n",
              "      <td>1</td>\n",
              "      <td>FLYNN: Hillary Clinton, Big Woman on Campus - ...</td>\n",
              "      <td>Daniel J. Flynn</td>\n",
              "      <td>Ever get the feeling your life circles the rou...</td>\n",
              "      <td>0</td>\n",
              "      <td>55</td>\n",
              "    </tr>\n",
              "    <tr>\n",
              "      <th>2</th>\n",
              "      <td>2</td>\n",
              "      <td>2</td>\n",
              "      <td>Why the Truth Might Get You Fired</td>\n",
              "      <td>Consortiumnews.com</td>\n",
              "      <td>Why the Truth Might Get You Fired October 29, ...</td>\n",
              "      <td>1</td>\n",
              "      <td>33</td>\n",
              "    </tr>\n",
              "    <tr>\n",
              "      <th>3</th>\n",
              "      <td>3</td>\n",
              "      <td>3</td>\n",
              "      <td>15 Civilians Killed In Single US Airstrike Hav...</td>\n",
              "      <td>Jessica Purkiss</td>\n",
              "      <td>Videos 15 Civilians Killed In Single US Airstr...</td>\n",
              "      <td>1</td>\n",
              "      <td>63</td>\n",
              "    </tr>\n",
              "    <tr>\n",
              "      <th>4</th>\n",
              "      <td>4</td>\n",
              "      <td>4</td>\n",
              "      <td>Iranian woman jailed for fictional unpublished...</td>\n",
              "      <td>Howard Portnoy</td>\n",
              "      <td>Print \\nAn Iranian woman has been sentenced to...</td>\n",
              "      <td>1</td>\n",
              "      <td>93</td>\n",
              "    </tr>\n",
              "    <tr>\n",
              "      <th>5</th>\n",
              "      <td>5</td>\n",
              "      <td>5</td>\n",
              "      <td>Jackie Mason: Hollywood Would Love Trump if He...</td>\n",
              "      <td>Daniel Nussbaum</td>\n",
              "      <td>In these trying times, Jackie Mason is the Voi...</td>\n",
              "      <td>0</td>\n",
              "      <td>124</td>\n",
              "    </tr>\n",
              "    <tr>\n",
              "      <th>6</th>\n",
              "      <td>7</td>\n",
              "      <td>7</td>\n",
              "      <td>Benoît Hamon Wins French Socialist Party’s Pre...</td>\n",
              "      <td>Alissa J. Rubin</td>\n",
              "      <td>PARIS  —   France chose an idealistic, traditi...</td>\n",
              "      <td>0</td>\n",
              "      <td>87</td>\n",
              "    </tr>\n",
              "    <tr>\n",
              "      <th>7</th>\n",
              "      <td>9</td>\n",
              "      <td>9</td>\n",
              "      <td>A Back-Channel Plan for Ukraine and Russia, Co...</td>\n",
              "      <td>Megan Twohey and Scott Shane</td>\n",
              "      <td>A week before Michael T. Flynn resigned as nat...</td>\n",
              "      <td>0</td>\n",
              "      <td>93</td>\n",
              "    </tr>\n",
              "    <tr>\n",
              "      <th>8</th>\n",
              "      <td>10</td>\n",
              "      <td>10</td>\n",
              "      <td>Obama’s Organizing for Action Partners with So...</td>\n",
              "      <td>Aaron Klein</td>\n",
              "      <td>Organizing for Action, the activist group that...</td>\n",
              "      <td>0</td>\n",
              "      <td>96</td>\n",
              "    </tr>\n",
              "    <tr>\n",
              "      <th>9</th>\n",
              "      <td>11</td>\n",
              "      <td>11</td>\n",
              "      <td>BBC Comedy Sketch \"Real Housewives of ISIS\" Ca...</td>\n",
              "      <td>Chris Tomlinson</td>\n",
              "      <td>The BBC produced spoof on the “Real Housewives...</td>\n",
              "      <td>0</td>\n",
              "      <td>58</td>\n",
              "    </tr>\n",
              "  </tbody>\n",
              "</table>\n",
              "</div>"
            ],
            "text/plain": [
              "   index  id  ... label length\n",
              "0      0   0  ...     1     81\n",
              "1      1   1  ...     0     55\n",
              "2      2   2  ...     1     33\n",
              "3      3   3  ...     1     63\n",
              "4      4   4  ...     1     93\n",
              "5      5   5  ...     0    124\n",
              "6      7   7  ...     0     87\n",
              "7      9   9  ...     0     93\n",
              "8     10  10  ...     0     96\n",
              "9     11  11  ...     0     58\n",
              "\n",
              "[10 rows x 7 columns]"
            ]
          },
          "metadata": {
            "tags": []
          },
          "execution_count": 14
        }
      ]
    },
    {
      "cell_type": "code",
      "metadata": {
        "colab": {
          "base_uri": "https://localhost:8080/",
          "height": 508
        },
        "id": "v4cY-kzhNEI1",
        "outputId": "16bdd66c-3642-457c-bedf-27fc075f8a47"
      },
      "source": [
        "df.groupby('author').nunique().T"
      ],
      "execution_count": 15,
      "outputs": [
        {
          "output_type": "execute_result",
          "data": {
            "text/html": [
              "<div>\n",
              "<style scoped>\n",
              "    .dataframe tbody tr th:only-of-type {\n",
              "        vertical-align: middle;\n",
              "    }\n",
              "\n",
              "    .dataframe tbody tr th {\n",
              "        vertical-align: top;\n",
              "    }\n",
              "\n",
              "    .dataframe thead th {\n",
              "        text-align: right;\n",
              "    }\n",
              "</style>\n",
              "<table border=\"1\" class=\"dataframe\">\n",
              "  <thead>\n",
              "    <tr style=\"text-align: right;\">\n",
              "      <th>author</th>\n",
              "      <th># 1 NWO Hatr</th>\n",
              "      <th>-NO AUTHOR-</th>\n",
              "      <th>10 Habits That Will Make Your Life Easier &amp;amp; More Peaceful - Wellness Solutions</th>\n",
              "      <th>10 More Beautiful Images That Remind You We Still Live In A Beautiful World, With Beautiful People - Upside Down Media</th>\n",
              "      <th>10 Movies That Could Change Your Understanding Of Life - Upside Down Media</th>\n",
              "      <th>10 Nutritious Foods That Help Reduce Asthma Attacks &amp;amp; Boost Your Health - Health Alternative Solutions</th>\n",
              "      <th>10 Presidents &amp;amp; Politicians Who Told Us That A “Secret Government” Controls The World &amp;amp; What They Said - Upside Down Media</th>\n",
              "      <th>10 Shocking Facts About Society That We Absurdly Accept As Normal – Digital Flow</th>\n",
              "      <th>11 Things To Let Go Of Before The New Year</th>\n",
              "      <th>11 Things To Let Go Of Before The New Year – Motivate3.com</th>\n",
              "      <th>19 Documentaries That Will Have An Impact On Your Life | Coffs Coast Health Club</th>\n",
              "      <th>1A. The History and Future of Sleep:</th>\n",
              "      <th>2012newstart</th>\n",
              "      <th>2noxtnt</th>\n",
              "      <th>3 Easy Salad Recipes To Help Control Diabetes – Collective Evolution | intopurification</th>\n",
              "      <th>4 Goals For The Neomasculinity Movement During Trump’s First Term</th>\n",
              "      <th>4 of the Best Kinds of Milk That Aren’t Dairy – Collective Evolution | APG Editorial</th>\n",
              "      <th>5 Ways You Can Start Feeling Better About Yourself Right Now – Collective Evolution</th>\n",
              "      <th>500 Year Old Map Discovered Shatters The Official History Of The Human Race</th>\n",
              "      <th>6 Steps to Becoming the Best Leader Possible – Motivate3.com</th>\n",
              "      <th>7 Harsh Realities That Come With Taking Full Responsibility For Your Life – Motivate3.com</th>\n",
              "      <th>:ohemad: (UID 73271507)</th>\n",
              "      <th>A Jew (UID 73270427)</th>\n",
              "      <th>A. F. Branco</th>\n",
              "      <th>A. Griffee</th>\n",
              "      <th>A. O. Scott</th>\n",
              "      <th>A.D.H.D. NATION: HOW BIG PHARMA CREATED THE A.D.H.D. EPIDEMIC - Black Barth</th>\n",
              "      <th>A.O. Scott</th>\n",
              "      <th>A.O. Scott and Manohla Dargis</th>\n",
              "      <th>AFP</th>\n",
              "      <th>AFRICA-NEWS</th>\n",
              "      <th>AP</th>\n",
              "      <th>AR Staff</th>\n",
              "      <th>AUTUMN</th>\n",
              "      <th>AWR Hawkins</th>\n",
              "      <th>AZU</th>\n",
              "      <th>Aaron E. Carroll</th>\n",
              "      <th>Aaron E. Carroll and Austin Frakt</th>\n",
              "      <th>Aaron Kesel</th>\n",
              "      <th>Aaron Klein</th>\n",
              "      <th>...</th>\n",
              "      <th>traildustfotm</th>\n",
              "      <th>troll hunter</th>\n",
              "      <th>truckjunkie</th>\n",
              "      <th>tz1</th>\n",
              "      <th>viralbus</th>\n",
              "      <th>vlawde</th>\n",
              "      <th>voltairenet.org</th>\n",
              "      <th>voteforno6</th>\n",
              "      <th>watchmannonthewall</th>\n",
              "      <th>weins.a</th>\n",
              "      <th>welcometoskaamoog</th>\n",
              "      <th>whatifs</th>\n",
              "      <th>whyamIhere</th>\n",
              "      <th>willz</th>\n",
              "      <th>wmw_admin</th>\n",
              "      <th>wtromp@operamail.com (WT)</th>\n",
              "      <th>xuenchen</th>\n",
              "      <th>xxux</th>\n",
              "      <th>youknowwho.</th>\n",
              "      <th>Óscar Martínez, Efren Lemus, Carlos Martínez and Deborah Sontag</th>\n",
              "      <th>Τιερί Μεϊσάν</th>\n",
              "      <th>Алла Белькевич</th>\n",
              "      <th>Андрей Иванов</th>\n",
              "      <th>Ариэль Нойола Родригес</th>\n",
              "      <th>Влада Крутова</th>\n",
              "      <th>Владимир В. Путин</th>\n",
              "      <th>Галина Солнцева</th>\n",
              "      <th>Евстахий Стахович</th>\n",
              "      <th>Жанна Ивченко</th>\n",
              "      <th>Ирина Солетова</th>\n",
              "      <th>Леонтина Литвинова</th>\n",
              "      <th>Светлана Якн</th>\n",
              "      <th>Тьерри Мейсан</th>\n",
              "      <th>Юлия Громова</th>\n",
              "      <th>برنامه ریزی ضمیر ناخوداگاه</th>\n",
              "      <th>تييري ميسان</th>\n",
              "      <th>جنگ ارزی آمریکا علیه ایران / مورد مطالعاتی سال 1390 - کدآمایی</th>\n",
              "      <th>سعيد هلال الشريفي</th>\n",
              "      <th>“SHOOT FIRST ASK QUESTIONS LATER” : WHAT HAPPENS TO A UFO WHEN TRACKED ON MILITARY RADAR - Black Barth</th>\n",
              "      <th>“Shoot First Ask Questions Later” : What Happens To A UFO When Tracked on Military Radar – Mystical Shire</th>\n",
              "    </tr>\n",
              "  </thead>\n",
              "  <tbody>\n",
              "    <tr>\n",
              "      <th>id</th>\n",
              "      <td>17</td>\n",
              "      <td>54</td>\n",
              "      <td>1</td>\n",
              "      <td>1</td>\n",
              "      <td>1</td>\n",
              "      <td>1</td>\n",
              "      <td>1</td>\n",
              "      <td>1</td>\n",
              "      <td>1</td>\n",
              "      <td>1</td>\n",
              "      <td>1</td>\n",
              "      <td>1</td>\n",
              "      <td>1</td>\n",
              "      <td>2</td>\n",
              "      <td>1</td>\n",
              "      <td>1</td>\n",
              "      <td>1</td>\n",
              "      <td>1</td>\n",
              "      <td>1</td>\n",
              "      <td>1</td>\n",
              "      <td>1</td>\n",
              "      <td>1</td>\n",
              "      <td>1</td>\n",
              "      <td>1</td>\n",
              "      <td>1</td>\n",
              "      <td>13</td>\n",
              "      <td>1</td>\n",
              "      <td>1</td>\n",
              "      <td>1</td>\n",
              "      <td>3</td>\n",
              "      <td>1</td>\n",
              "      <td>11</td>\n",
              "      <td>1</td>\n",
              "      <td>1</td>\n",
              "      <td>107</td>\n",
              "      <td>1</td>\n",
              "      <td>10</td>\n",
              "      <td>1</td>\n",
              "      <td>25</td>\n",
              "      <td>54</td>\n",
              "      <td>...</td>\n",
              "      <td>2</td>\n",
              "      <td>1</td>\n",
              "      <td>1</td>\n",
              "      <td>1</td>\n",
              "      <td>2</td>\n",
              "      <td>1</td>\n",
              "      <td>18</td>\n",
              "      <td>1</td>\n",
              "      <td>2</td>\n",
              "      <td>3</td>\n",
              "      <td>1</td>\n",
              "      <td>1</td>\n",
              "      <td>1</td>\n",
              "      <td>1</td>\n",
              "      <td>51</td>\n",
              "      <td>3</td>\n",
              "      <td>3</td>\n",
              "      <td>1</td>\n",
              "      <td>1</td>\n",
              "      <td>1</td>\n",
              "      <td>1</td>\n",
              "      <td>4</td>\n",
              "      <td>1</td>\n",
              "      <td>1</td>\n",
              "      <td>1</td>\n",
              "      <td>1</td>\n",
              "      <td>2</td>\n",
              "      <td>1</td>\n",
              "      <td>4</td>\n",
              "      <td>1</td>\n",
              "      <td>4</td>\n",
              "      <td>2</td>\n",
              "      <td>2</td>\n",
              "      <td>2</td>\n",
              "      <td>1</td>\n",
              "      <td>1</td>\n",
              "      <td>1</td>\n",
              "      <td>1</td>\n",
              "      <td>1</td>\n",
              "      <td>1</td>\n",
              "    </tr>\n",
              "    <tr>\n",
              "      <th>title</th>\n",
              "      <td>17</td>\n",
              "      <td>37</td>\n",
              "      <td>1</td>\n",
              "      <td>1</td>\n",
              "      <td>1</td>\n",
              "      <td>1</td>\n",
              "      <td>1</td>\n",
              "      <td>1</td>\n",
              "      <td>1</td>\n",
              "      <td>1</td>\n",
              "      <td>1</td>\n",
              "      <td>1</td>\n",
              "      <td>1</td>\n",
              "      <td>2</td>\n",
              "      <td>1</td>\n",
              "      <td>1</td>\n",
              "      <td>1</td>\n",
              "      <td>1</td>\n",
              "      <td>1</td>\n",
              "      <td>1</td>\n",
              "      <td>1</td>\n",
              "      <td>1</td>\n",
              "      <td>1</td>\n",
              "      <td>1</td>\n",
              "      <td>1</td>\n",
              "      <td>13</td>\n",
              "      <td>1</td>\n",
              "      <td>1</td>\n",
              "      <td>1</td>\n",
              "      <td>3</td>\n",
              "      <td>1</td>\n",
              "      <td>11</td>\n",
              "      <td>1</td>\n",
              "      <td>1</td>\n",
              "      <td>107</td>\n",
              "      <td>1</td>\n",
              "      <td>10</td>\n",
              "      <td>1</td>\n",
              "      <td>25</td>\n",
              "      <td>54</td>\n",
              "      <td>...</td>\n",
              "      <td>2</td>\n",
              "      <td>1</td>\n",
              "      <td>1</td>\n",
              "      <td>1</td>\n",
              "      <td>2</td>\n",
              "      <td>1</td>\n",
              "      <td>18</td>\n",
              "      <td>1</td>\n",
              "      <td>2</td>\n",
              "      <td>3</td>\n",
              "      <td>1</td>\n",
              "      <td>1</td>\n",
              "      <td>1</td>\n",
              "      <td>1</td>\n",
              "      <td>51</td>\n",
              "      <td>3</td>\n",
              "      <td>3</td>\n",
              "      <td>1</td>\n",
              "      <td>1</td>\n",
              "      <td>1</td>\n",
              "      <td>1</td>\n",
              "      <td>4</td>\n",
              "      <td>1</td>\n",
              "      <td>1</td>\n",
              "      <td>1</td>\n",
              "      <td>1</td>\n",
              "      <td>2</td>\n",
              "      <td>1</td>\n",
              "      <td>4</td>\n",
              "      <td>1</td>\n",
              "      <td>4</td>\n",
              "      <td>2</td>\n",
              "      <td>2</td>\n",
              "      <td>2</td>\n",
              "      <td>1</td>\n",
              "      <td>1</td>\n",
              "      <td>1</td>\n",
              "      <td>1</td>\n",
              "      <td>1</td>\n",
              "      <td>1</td>\n",
              "    </tr>\n",
              "    <tr>\n",
              "      <th>text</th>\n",
              "      <td>17</td>\n",
              "      <td>53</td>\n",
              "      <td>1</td>\n",
              "      <td>1</td>\n",
              "      <td>1</td>\n",
              "      <td>1</td>\n",
              "      <td>1</td>\n",
              "      <td>1</td>\n",
              "      <td>1</td>\n",
              "      <td>1</td>\n",
              "      <td>1</td>\n",
              "      <td>1</td>\n",
              "      <td>1</td>\n",
              "      <td>2</td>\n",
              "      <td>1</td>\n",
              "      <td>1</td>\n",
              "      <td>1</td>\n",
              "      <td>1</td>\n",
              "      <td>1</td>\n",
              "      <td>1</td>\n",
              "      <td>1</td>\n",
              "      <td>1</td>\n",
              "      <td>1</td>\n",
              "      <td>1</td>\n",
              "      <td>1</td>\n",
              "      <td>13</td>\n",
              "      <td>1</td>\n",
              "      <td>1</td>\n",
              "      <td>1</td>\n",
              "      <td>3</td>\n",
              "      <td>1</td>\n",
              "      <td>11</td>\n",
              "      <td>1</td>\n",
              "      <td>1</td>\n",
              "      <td>107</td>\n",
              "      <td>1</td>\n",
              "      <td>10</td>\n",
              "      <td>1</td>\n",
              "      <td>25</td>\n",
              "      <td>54</td>\n",
              "      <td>...</td>\n",
              "      <td>2</td>\n",
              "      <td>1</td>\n",
              "      <td>1</td>\n",
              "      <td>1</td>\n",
              "      <td>2</td>\n",
              "      <td>1</td>\n",
              "      <td>18</td>\n",
              "      <td>1</td>\n",
              "      <td>2</td>\n",
              "      <td>3</td>\n",
              "      <td>1</td>\n",
              "      <td>1</td>\n",
              "      <td>1</td>\n",
              "      <td>1</td>\n",
              "      <td>51</td>\n",
              "      <td>3</td>\n",
              "      <td>3</td>\n",
              "      <td>1</td>\n",
              "      <td>1</td>\n",
              "      <td>1</td>\n",
              "      <td>1</td>\n",
              "      <td>4</td>\n",
              "      <td>1</td>\n",
              "      <td>1</td>\n",
              "      <td>1</td>\n",
              "      <td>1</td>\n",
              "      <td>2</td>\n",
              "      <td>1</td>\n",
              "      <td>4</td>\n",
              "      <td>1</td>\n",
              "      <td>4</td>\n",
              "      <td>2</td>\n",
              "      <td>2</td>\n",
              "      <td>2</td>\n",
              "      <td>1</td>\n",
              "      <td>1</td>\n",
              "      <td>1</td>\n",
              "      <td>1</td>\n",
              "      <td>1</td>\n",
              "      <td>1</td>\n",
              "    </tr>\n",
              "    <tr>\n",
              "      <th>label</th>\n",
              "      <td>1</td>\n",
              "      <td>1</td>\n",
              "      <td>1</td>\n",
              "      <td>1</td>\n",
              "      <td>1</td>\n",
              "      <td>1</td>\n",
              "      <td>1</td>\n",
              "      <td>1</td>\n",
              "      <td>1</td>\n",
              "      <td>1</td>\n",
              "      <td>1</td>\n",
              "      <td>1</td>\n",
              "      <td>1</td>\n",
              "      <td>1</td>\n",
              "      <td>1</td>\n",
              "      <td>1</td>\n",
              "      <td>1</td>\n",
              "      <td>1</td>\n",
              "      <td>1</td>\n",
              "      <td>1</td>\n",
              "      <td>1</td>\n",
              "      <td>1</td>\n",
              "      <td>1</td>\n",
              "      <td>1</td>\n",
              "      <td>1</td>\n",
              "      <td>1</td>\n",
              "      <td>1</td>\n",
              "      <td>1</td>\n",
              "      <td>1</td>\n",
              "      <td>2</td>\n",
              "      <td>1</td>\n",
              "      <td>1</td>\n",
              "      <td>1</td>\n",
              "      <td>1</td>\n",
              "      <td>1</td>\n",
              "      <td>1</td>\n",
              "      <td>1</td>\n",
              "      <td>1</td>\n",
              "      <td>1</td>\n",
              "      <td>1</td>\n",
              "      <td>...</td>\n",
              "      <td>1</td>\n",
              "      <td>1</td>\n",
              "      <td>1</td>\n",
              "      <td>1</td>\n",
              "      <td>1</td>\n",
              "      <td>1</td>\n",
              "      <td>1</td>\n",
              "      <td>1</td>\n",
              "      <td>1</td>\n",
              "      <td>1</td>\n",
              "      <td>1</td>\n",
              "      <td>1</td>\n",
              "      <td>1</td>\n",
              "      <td>1</td>\n",
              "      <td>1</td>\n",
              "      <td>1</td>\n",
              "      <td>1</td>\n",
              "      <td>1</td>\n",
              "      <td>1</td>\n",
              "      <td>1</td>\n",
              "      <td>1</td>\n",
              "      <td>1</td>\n",
              "      <td>1</td>\n",
              "      <td>1</td>\n",
              "      <td>1</td>\n",
              "      <td>1</td>\n",
              "      <td>1</td>\n",
              "      <td>1</td>\n",
              "      <td>1</td>\n",
              "      <td>1</td>\n",
              "      <td>1</td>\n",
              "      <td>1</td>\n",
              "      <td>1</td>\n",
              "      <td>1</td>\n",
              "      <td>1</td>\n",
              "      <td>1</td>\n",
              "      <td>1</td>\n",
              "      <td>1</td>\n",
              "      <td>1</td>\n",
              "      <td>1</td>\n",
              "    </tr>\n",
              "    <tr>\n",
              "      <th>length</th>\n",
              "      <td>16</td>\n",
              "      <td>24</td>\n",
              "      <td>1</td>\n",
              "      <td>1</td>\n",
              "      <td>1</td>\n",
              "      <td>1</td>\n",
              "      <td>1</td>\n",
              "      <td>1</td>\n",
              "      <td>1</td>\n",
              "      <td>1</td>\n",
              "      <td>1</td>\n",
              "      <td>1</td>\n",
              "      <td>1</td>\n",
              "      <td>2</td>\n",
              "      <td>1</td>\n",
              "      <td>1</td>\n",
              "      <td>1</td>\n",
              "      <td>1</td>\n",
              "      <td>1</td>\n",
              "      <td>1</td>\n",
              "      <td>1</td>\n",
              "      <td>1</td>\n",
              "      <td>1</td>\n",
              "      <td>1</td>\n",
              "      <td>1</td>\n",
              "      <td>12</td>\n",
              "      <td>1</td>\n",
              "      <td>1</td>\n",
              "      <td>1</td>\n",
              "      <td>2</td>\n",
              "      <td>1</td>\n",
              "      <td>10</td>\n",
              "      <td>1</td>\n",
              "      <td>1</td>\n",
              "      <td>48</td>\n",
              "      <td>1</td>\n",
              "      <td>10</td>\n",
              "      <td>1</td>\n",
              "      <td>20</td>\n",
              "      <td>35</td>\n",
              "      <td>...</td>\n",
              "      <td>2</td>\n",
              "      <td>1</td>\n",
              "      <td>1</td>\n",
              "      <td>1</td>\n",
              "      <td>2</td>\n",
              "      <td>1</td>\n",
              "      <td>15</td>\n",
              "      <td>1</td>\n",
              "      <td>2</td>\n",
              "      <td>3</td>\n",
              "      <td>1</td>\n",
              "      <td>1</td>\n",
              "      <td>1</td>\n",
              "      <td>1</td>\n",
              "      <td>38</td>\n",
              "      <td>3</td>\n",
              "      <td>2</td>\n",
              "      <td>1</td>\n",
              "      <td>1</td>\n",
              "      <td>1</td>\n",
              "      <td>1</td>\n",
              "      <td>4</td>\n",
              "      <td>1</td>\n",
              "      <td>1</td>\n",
              "      <td>1</td>\n",
              "      <td>1</td>\n",
              "      <td>2</td>\n",
              "      <td>1</td>\n",
              "      <td>4</td>\n",
              "      <td>1</td>\n",
              "      <td>4</td>\n",
              "      <td>2</td>\n",
              "      <td>2</td>\n",
              "      <td>2</td>\n",
              "      <td>1</td>\n",
              "      <td>1</td>\n",
              "      <td>1</td>\n",
              "      <td>1</td>\n",
              "      <td>1</td>\n",
              "      <td>1</td>\n",
              "    </tr>\n",
              "  </tbody>\n",
              "</table>\n",
              "<p>5 rows × 3838 columns</p>\n",
              "</div>"
            ],
            "text/plain": [
              "author  # 1 NWO Hatr  ...  “Shoot First Ask Questions Later” : What Happens To A UFO When Tracked on Military Radar – Mystical Shire\n",
              "id                17  ...                                                  1                                                        \n",
              "title             17  ...                                                  1                                                        \n",
              "text              17  ...                                                  1                                                        \n",
              "label              1  ...                                                  1                                                        \n",
              "length            16  ...                                                  1                                                        \n",
              "\n",
              "[5 rows x 3838 columns]"
            ]
          },
          "metadata": {
            "tags": []
          },
          "execution_count": 15
        }
      ]
    },
    {
      "cell_type": "markdown",
      "metadata": {
        "id": "kcYvMsAxNEI2"
      },
      "source": [
        "## Text Preprocessing :"
      ]
    },
    {
      "cell_type": "code",
      "metadata": {
        "colab": {
          "base_uri": "https://localhost:8080/"
        },
        "id": "5D2AkV9_NEI2",
        "outputId": "189f0a94-3377-4788-ac85-ec923a45fbe4"
      },
      "source": [
        "import nltk\n",
        "nltk.download('stopwords')\n",
        "from nltk.corpus import stopwords\n",
        "import re\n",
        "from nltk.stem.porter import PorterStemmer\n"
      ],
      "execution_count": 16,
      "outputs": [
        {
          "output_type": "stream",
          "text": [
            "[nltk_data] Downloading package stopwords to /root/nltk_data...\n",
            "[nltk_data]   Package stopwords is already up-to-date!\n"
          ],
          "name": "stdout"
        }
      ]
    },
    {
      "cell_type": "code",
      "metadata": {
        "id": "-9_e2FATNEI2"
      },
      "source": [
        "cor=[]\n",
        "ps=PorterStemmer()"
      ],
      "execution_count": 17,
      "outputs": []
    },
    {
      "cell_type": "code",
      "metadata": {
        "id": "L8NZaLNSNEI2"
      },
      "source": [
        "for i in range(0,len(messages)):\n",
        "    review=re.sub('[^a-zA-Z]',' ',messages['title'][i])\n",
        "    review=messages['title'][i]\n",
        "    review=review.lower()\n",
        "    review=review.split()\n",
        "    \n",
        "    \n",
        "    review=[ps.stem(word) for word in review if not word in stopwords.words('english')]\n",
        "    review=' '.join(review)\n",
        "    cor.append(review)"
      ],
      "execution_count": 18,
      "outputs": []
    },
    {
      "cell_type": "code",
      "metadata": {
        "colab": {
          "base_uri": "https://localhost:8080/",
          "height": 35
        },
        "id": "e-JxMtWrNEI3",
        "outputId": "dd5cddd0-5bb9-4644-fb9a-9c9454093758"
      },
      "source": [
        "cor[3]"
      ],
      "execution_count": 19,
      "outputs": [
        {
          "output_type": "execute_result",
          "data": {
            "application/vnd.google.colaboratory.intrinsic+json": {
              "type": "string"
            },
            "text/plain": [
              "'15 civilian kill singl us airstrik identifi'"
            ]
          },
          "metadata": {
            "tags": []
          },
          "execution_count": 19
        }
      ]
    },
    {
      "cell_type": "code",
      "metadata": {
        "colab": {
          "base_uri": "https://localhost:8080/"
        },
        "id": "ePWABydvNEI3",
        "outputId": "aa9e8615-109c-411c-c9ab-d185b00e9644"
      },
      "source": [
        "cor"
      ],
      "execution_count": 20,
      "outputs": [
        {
          "output_type": "execute_result",
          "data": {
            "text/plain": [
              "['hous dem aide: didn’t even see comey’ letter jason chaffetz tweet',\n",
              " 'flynn: hillari clinton, big woman campu - breitbart',\n",
              " 'truth might get fire',\n",
              " '15 civilian kill singl us airstrik identifi',\n",
              " 'iranian woman jail fiction unpublish stori woman stone death adulteri',\n",
              " 'jacki mason: hollywood would love trump bomb north korea lack tran bathroom (exclus video) - breitbart',\n",
              " 'benoît hamon win french socialist party’ presidenti nomin - new york time',\n",
              " 'back-channel plan ukrain russia, courtesi trump associ - new york time',\n",
              " 'obama’ organ action partner soros-link ‘indivisible’ disrupt trump’ agenda',\n",
              " 'bbc comedi sketch \"real housew isis\" caus outrag',\n",
              " 'russian research discov secret nazi militari base ‘treasur hunter’ arctic [photos]',\n",
              " 'us offici see link trump russia',\n",
              " 're: yes, paid govern troll social media, blogs, forum websit',\n",
              " 'major leagu soccer, argentin find home success - new york time',\n",
              " 'well fargo chief abruptli step - new york time',\n",
              " 'anonym donor pay $2.5 million releas everyon arrest dakota access pipelin',\n",
              " 'fbi close hillary!',\n",
              " 'chuck todd: ’buzzfe donald trump polit favor’ - breitbart',\n",
              " 'monica lewinsky, clinton sex scandal set ’american crime story’',\n",
              " 'rob reiner: trump ’mental unstable’ - breitbart',\n",
              " 'abort pill order rise 7 latin american nation zika alert - new york time',\n",
              " 'nuke un: histor treati ban nuclear weapon',\n",
              " 'exclusive: islam state support vow ‘shake’ west follow manchest terrorist massacr - breitbart',\n",
              " 'humili hillari tri hide camera caught 15 min ralli',\n",
              " 'andrea tantaro fox news claim retali sex harass complaint - new york time',\n",
              " 'hillari clinton becam hawk - new york time',\n",
              " 'chuck todd buzzfe eic: ’you publish fake news’ - breitbart',\n",
              " 'won, bori johnson ‘brexit’ leader fumbl - new york time',\n",
              " 'texa oil field rebound price lull, job left behind - new york time',\n",
              " 'bayer deal monsanto follow agribusi trend, rais worri farmer - new york time',\n",
              " 'russia move ban jehovah’ wit ‘extremist’ - new york time',\n",
              " 're: still ‘the danger zone’ januari 20th, 2017',\n",
              " 'open thread (not u.s. election) 2016-39',\n",
              " 'democrat gutierrez blame chicago’ gun violenc nra - breitbart',\n",
              " 'avoid peanut avoid allergi bad strategi - new york time',\n",
              " 'mri show detail imag 20-week unborn babi - breitbart',\n",
              " '4 best kind milk aren’t dairi',\n",
              " 'ryan locht drop speedo usa retail - new york time',\n",
              " 'conserv urg session clean obama’ civil right divis - breitbart',\n",
              " 'intern inquiri seal fate roger ail fox - new york time',\n",
              " 'press tv debate: duff lebanon, hezbollah aoun’ presid (3 videos)',\n",
              " 'samsung, combust galaxi note 7, unveil new smartphon - new york time',\n",
              " 'poland vow referendum migrant quota amidst eu pressure: ’the public’ voic heard’ - breitbart',\n",
              " 'spark inner revolut',\n",
              " 'study: half car crash involv driver distract cell phone - breitbart',\n",
              " 'trump elect spark individu & collect heal',\n",
              " 'ep. 544 fade black jimmi church w/ laura eisenhow : restor balanc [video]',\n",
              " 'cognit true islam - book review',\n",
              " 'donald trump win election, biggest miracl us polit histori',\n",
              " 'mind eat way fight bing - new york time',\n",
              " 'major potenti impact corpor tax overhaul - new york time',\n",
              " 'wonder glp like day election?',\n",
              " '3 maker world’ smallest machin award nobel prize chemistri - new york time',\n",
              " 'massiv anti-trump protests, union squar nyc live stream',\n",
              " 'review: ‘lion’ bring tear lost boy, wipe dri googl - new york time',\n",
              " 'u.s. general: islam state chemic attack ’no impact’ u.s. forc',\n",
              " 'juri find oregon standoff defend guilti feder conspiracy, gun charg',\n",
              " 'clinton campaign stun fbi reportedli reopen probe hillari clinton email',\n",
              " 'penc speak anti-abort ralli - new york time',\n",
              " 'berni sander say media won’t: trump gutless polit coward',\n",
              " 'make briquett daili wast',\n",
              " \"treason! nyt vow 'rededication' reporting!\",\n",
              " 'dress like woman? mean? - new york time',\n",
              " '91, ella brennan still feed (and leads) new orlean - new york time',\n",
              " 'press asia agenda, obama tread lightli human right - new york time',\n",
              " 'democrat 60 percent chanc retak senat - new york time',\n",
              " 'judg spank transgender-obsess obama: lie! | redflag news',\n",
              " '51 u.s. diplomat urg strike assad syria - new york time',\n",
              " 'franken call ’independ investigation’ trump’ ’putin crush’ - breitbart',\n",
              " 'louisiana, simon biles, u.s. presidenti race: tuesday even brief - new york time',\n",
              " 'turkey threaten open migrant ’land passage’ europ row dutch',\n",
              " 'huma’ weiner dog hillari',\n",
              " 'colin kaepernick start black panther-inspir youth camp? wow!',\n",
              " 'trump’ immigr polici explain - new york time',\n",
              " 'mari tyler moor mourn dick van dyke star - new york time',\n",
              " 'poison',\n",
              " 'trump fan ralli across nation support presid - new york time',\n",
              " \"fox biz report can't help bash clinton’ ralli cover trump’ pack event day\",\n",
              " '11 fiction podcast worth listen - new york time',\n",
              " 'mike birbiglia’ 6 tip make small hollywood. anywhere. - new york time',\n",
              " 'invest strategist forecast collaps timeline: ‘the last gasp econom cycl come 2018’',\n",
              " 'venezuela muzzl legislature, move closer one-man rule - new york time',\n",
              " \"whether john mccain, mitt romney donald trump, democrat alway run 'war women' tactic destroy republican candid\",\n",
              " 'breitbart news daily: trump boom - breitbart',\n",
              " 'white hous confirm gitmo transfer obama leav offic',\n",
              " 'poll: voter heard democrat 2020 elect candid - breitbart',\n",
              " 'migrant confront judgment day old deport order - new york time',\n",
              " 'm.i.t., n.y.u. yale su retir plan fee - new york time',\n",
              " 'technocracy: real reason un want control internet',\n",
              " 'american driver regain appetit ga guzzler - new york time',\n",
              " 'hillari clinton build $150 million war chest, doubl donald trump - new york time',\n",
              " 'trump catch sick report snuck interview, priceless respons',\n",
              " '100 senat contact russian govern week',\n",
              " '10 imag perfectli illustr struggl dakota access pipelin',\n",
              " 'washington state take 10 refugees, 0 muslim rest countri take 189 refugees, 151 muslim - breitbart',\n",
              " 'ncaa, big 12 keep watch eye texa bathroom bill - breitbart',\n",
              " 'massiv espn financial, subscrib loss drag disney’ first-quart sale - breitbart',\n",
              " 'megyn kelly, contract set expir next year, prime big show - new york time',\n",
              " 'teacher suspend allow student hit trump pinata cinco de mayo',\n",
              " 'break : trump express concern anthoni weiner’ “illeg access” classifi info 2 month ago – truthfe',\n",
              " 'snap share leap 44% debut investor doubt valu vanish - new york time',\n",
              " 'clinton campaign chair dinner top doj offici one day hillary’ benghazi hear',\n",
              " 'tv seri ’first femal mlb pitcher’ can one, low-rat season - breitbart',\n",
              " 'seek best fit, women’ final four return friday-sunday - new york time',\n",
              " 'propos canadian nation bird ruffl feather - new york time',\n",
              " 'review: beyoncé make ‘lemonade’ marit strife - new york time',\n",
              " 'trump ask sharp increas militari spending, offici say - new york time',\n",
              " 'watergate? smoke gun email discuss “clean up” obama/hillari email',\n",
              " '“chapo trap house”: new left-w podcast flagrant rip-off right stuff',\n",
              " 'taiwan respond china send carrier taiwan strait - new york time',\n",
              " 'mother octob surprises—whi hous card come tumbl',\n",
              " 'explos assange/pilg interview us election: expect riot hillari win',\n",
              " 'telescop ‘ate astronomy’ track surpass hubbl - new york time',\n",
              " 'close afghan-pakistani border becom ‘humanitarian crisis’ - new york time',\n",
              " 'tv anchor arriv white hous lunch donald trump - breitbart',\n",
              " 'pelosi: republican tell trump he’ ’bring dishonor’ presid - breitbart',\n",
              " 'beauti prehistor world: earth wasteland?',\n",
              " 'ignor trump news week. here’ learned. - new york time',\n",
              " 'donald trump unveil plan famili bid women’ vote - new york time',\n",
              " 'montana democrat vote bill ban sharia law, call ’repugnant’ - breitbart',\n",
              " 'monsanto tribun over. go? happen now?',\n",
              " 'it’ official: simon bile world’ best gymnast - new york time',\n",
              " 'liter hurt brain read econom idioci emit trumpkin | libertarian',\n",
              " 'u.n. secretari gener complain ‘mass reject globalism’ favor nation',\n",
              " 'trump bollywood ad meant sway indian american voter hilari fail (video)',\n",
              " 'fbi find previous unseen hillari clinton email weiner’ laptop',\n",
              " '2 year american journalist killed, ‘conspiraci theories’ syria proven fact',\n",
              " 'report: illeg alien forego food stamp stay trump’ radar',\n",
              " 'make netherland great again! hahaha spread worldwide!',\n",
              " 'four killed, 10 injur jerusalem truck-ram terror attack',\n",
              " 'leader salut comrad newt brutal megyn [sic] kelli beatdown: “we don’t play games”',\n",
              " 'student black colleg got beaten mace protest kkk’ david duke',\n",
              " 'despit strict gun control, one ’child youth’ shot everi day ontario',\n",
              " 'rise internet fan bulli - new york time',\n",
              " 'newli vibrant washington fear trump drain cultur - new york time',\n",
              " 'fed hold interest rate steadi plan slower increas - new york time',\n",
              " 'battl unesco',\n",
              " 'latest test white house? pull easter egg roll - new york time',\n",
              " 'burlesqu dancer fired, investig secret servic trump assassin tweet - breitbart',\n",
              " 'clinton haiti',\n",
              " 'cuomo christie, parallel path top, troubl got - new york time',\n",
              " 'top 10 place world allow visit',\n",
              " 'new studi link fluorid consumpt hypothyroidism, weight gain, wors',\n",
              " 'jame matti secretari offens',\n",
              " 'black church burn spray-paint “vote trump”',\n",
              " 'sear agre sell craftsman stanley black &amp decker rais cash - new york time',\n",
              " 'takata chief execut resign financi pressur mount - new york time',\n",
              " 'goodbye, good, black sabbath - new york time',\n",
              " 'teen ’geisha dolls’ gang bust arm robberi - breitbart',\n",
              " 'mohamad khweis: anoth “virginia man” (palestinian-american muslim) charg terror',\n",
              " 'price obamacar replacement: ‘nobodi wors financially’ - breitbart',\n",
              " 'va fail properli examin thousand veteran',\n",
              " 'trump famili alreadi ‘sworn secrecy’ fake moon landings. soon.',\n",
              " 'sport writer: nfl great jim brown’ decad civil right work eras say nice thing donald trump - breitbart',\n",
              " '‘i watch tv’: excus republican skip donald trump convent - new york time',\n",
              " 'open letter trump voter told “like is”',\n",
              " 'comment power corpor lobbi quietli back hillari — nobody’ talk runsinquicksand',\n",
              " 'hijack end peac libyan airlin land malta - new york time',\n",
              " 'don’t like girl ‘girls’? that’ genius. - new york time',\n",
              " 'scientist say canadian bacteria fossil may earth’ oldest - new york time',\n",
              " 'pro-govern forc advanc syria amid talk u.s.-russia cooper - new york time',\n",
              " 'cancer agenc fire withhold ‘carcinogen glyphosate’ document',\n",
              " 'work. walk 5 minutes. work. - new york time',\n",
              " 'steve harvey talk hous president-elect trump - new york time',\n",
              " 'coalition: u.s. troop fight mosul offens ’come fire’',\n",
              " 'uk citizen war hero get cheap pre-fab hous muslim colon get taxpayer-fund luxuri council home',\n",
              " 'vet fight war, fed demand money back… illeg refuge keep money',\n",
              " 'mr. trump’ wild ride - new york time',\n",
              " 'fbi director comey bamboozl doj, congress, clinton',\n",
              " '20 food natur unclog arteri prevent heart attack',\n",
              " 'death ‘two-stat solution’',\n",
              " 'comment parent date asleep car cop arriv kill facespac',\n",
              " 'donald trump’ team show sign post-elect moder - new york time',\n",
              " 'miami beach tri tame raucou street (but fishbowl drink stay) - new york time',\n",
              " 'doctor mysteri found dead summit breakthrough cure cancer',\n",
              " 'donald trump, unsink candid - new york time',\n",
              " 'shock new mock hillari ad campaign warn she’ll take us war: #enlistforher, #fightforher, #dieforh',\n",
              " 'exclus -- famili slain border patrol agent brian terri say eric holder among ’the real criminals’ respons',\n",
              " 'trump tell reporters: ‘wall work - ask israel’ - breitbart',\n",
              " 'america surviv next 4 years?',\n",
              " 'commission start press cleveland indian logo - new york time',\n",
              " 'un plan implant everyon biometr id, drill',\n",
              " 'trump attack senator’ credibl gorsuch’ comment - new york time',\n",
              " 'clinton advisor lose leak email hillary’ illeg activ',\n",
              " 'art laffer: ’paul ryan’ perfect right now’ - breitbart',\n",
              " 'donald trump blame econom crash',\n",
              " 'pokemon go player inadvert stop peopl commit suicid japan',\n",
              " 'california senat race tale divers flail g.o.p. - new york time',\n",
              " 'exclusive: sourc say megyn kelli ‘would welcom back’ fox news',\n",
              " 'break precedent, obama envoy deni extens past inaugur day - new york time',\n",
              " '‘brexit’ vote go? monti python may offer clue - new york time',\n",
              " 'blind mystic predict 9/11 bad news trump',\n",
              " 'total vet fail: left-w snowden fan girl realiti winner get access nsa secret',\n",
              " 'somalia, u.s. escal shadow war - new york time',\n",
              " 'free care ‘blessing’ victim orlando nightclub attack - new york time',\n",
              " 'durabl democrat counti countri could go trump',\n",
              " 'fed’ challenge, rais rates, may existenti - new york time',\n",
              " \"'russia intent attack anyon -thi absurd,' say vladimir putin\",\n",
              " 'f.a.a. investig errant flight involv harrison ford - new york time',\n",
              " 'fed rais key interest rate, cite strengthen economi - new york time',\n",
              " 'la expresión “no, lo siguiente” ya es la má utilizada no, lo siguiente, en el castellano',\n",
              " 'trump berat news media, new strategi need cover - new york time',\n",
              " 'u.s. drone strike target taliban leader - new york time',\n",
              " 'u.s. intelligence: ‘expect al-qaeda attack monday new york, virginia texas’',\n",
              " 'told cannabi great revers alzheimer’s?',\n",
              " 'report: megyn kelli kick nbc show kardashian famili interview',\n",
              " 'local 1-percent may rich think - new york time',\n",
              " 'dr. david duke mark collett uk. collett explain duke & trump victori would chang polit forever!',\n",
              " 'statement senate, well fargo chief ‘deepli sorry’ - new york time',\n",
              " 'cnn statement distanc network buzzfe fake news dossier - breitbart',\n",
              " 'c.e.o. ponder new game, trump’ rule - new york time',\n",
              " 'spicer brady’ stolen jersey: ’anoth bad press’ - breitbart',\n",
              " 'scaredy-cat’ investig peopl enjoy fear - new york time',\n",
              " 'left’ vision',\n",
              " 'showdown loom u.s. question chines deal german chip design - new york time',\n",
              " 'trump administr take harder tack trade china - new york time',\n",
              " 'pew: american trust level feder govern plummet histor low - breitbart',\n",
              " 'islam state support former nation guardsman plead guilti terror charg virginia',\n",
              " 'spicer reporter: ’we’r go rais hand like big boy girls’ - breitbart',\n",
              " 'leader applaud gorsuch confirm ’win pro-lif movement’',\n",
              " 'newstick (974)',\n",
              " 'french vogue’ march cover featur transgend model - new york time',\n",
              " 'trump veer parti line gun control - new york time',\n",
              " 'oligarchi prepar groundwork steal elect',\n",
              " 'ya hay má reencuentro de “operación triunfo” que edicion de “operación triunfo”',\n",
              " 'chatsworth house, tale five centuri - new york time',\n",
              " 'uncomfort love affair donald trump new england patriot - new york time',\n",
              " 'john mccain withdraw support donald trump disclosur record - new york time',\n",
              " 'strange, unend limbo egypt’ hosni mubarak - new york time',\n",
              " 'poverti rose 96% u.s. hous districts, obama’ presid',\n",
              " 'huma abedin seek fbi immun deal',\n",
              " 'singl mom escap friend zone, one non-dat time - new york time',\n",
              " 'boe suit futur spaceflight new spacesuit design - breitbart',\n",
              " 'trump float oliv branch: might keep part health law - new york time',\n",
              " 'wapo tri compar elizabeth warren break senat rule milo shut violent riot - breitbart',\n",
              " 'crumpl school bu leav chattanooga daze - new york time',\n",
              " 'die came back life incred messag human',\n",
              " 'fight nation african-american museum - new york time',\n",
              " 'father manchest suicid bomber arrest libya - breitbart',\n",
              " '4 secret true leader',\n",
              " 'muslim demand local don’t walk dog public – violat sharia “disrespects”',\n",
              " \"hillari campaign bed pac staff donat $500k fbi agent' wife investig\",\n",
              " 'still over: tri “flip elector college” block trump’ win',\n",
              " 'al sharpton dems: point appeal ‘archi bunker’ trump voter - breitbart',\n",
              " 'think mani doom sayer trump get offic ?',\n",
              " 'democrat jump session resign band wagon - breitbart',\n",
              " 'alt-right architect glenn beck open fire alt-right: ‘grave threat republic’ (audio, tweet)',\n",
              " 'politic justic protect hillari',\n",
              " 'north carolina, satur surprised, reel hurrican matthew - new york time',\n",
              " 'live loved: submit memori - new york time',\n",
              " 'achiev mind work, medit cushion requir - new york time',\n",
              " 'world’ first zero-emiss hydrogen-pow passeng train unveil germani',\n",
              " 'confus chip credit cards? get line - new york time',\n",
              " 'brooks: trump ’side foreign leader us president’ israel russia - breitbart',\n",
              " 'there’ toxic air home get rid natur',\n",
              " 'connecticut reader report record voter registration–inspir trump',\n",
              " 'germani react merkel-trump visit: ‘could lot worse’ - new york time',\n",
              " 'justin rose outduel henrik stenson golf gold medal - new york time',\n",
              " 'iceland’ water cure - new york time',\n",
              " 'm.t.a. shorten l train shutdown 15 month - new york time',\n",
              " 'time presid decided? - new york time',\n",
              " 'u.n. relief offici call crisi aleppo ‘apex horror’ - new york time',\n",
              " 'berkeley, treat violent, anti-speech left like kkk',\n",
              " 'statist propaganda: mani syrian us regime-chang killed?',\n",
              " 'self-help guru jame altuch own 15 thing - new york time',\n",
              " 'trump’ religi liberti order give session major leeway - breitbart',\n",
              " '¡demoledor amparo contra salgado, keiko 72 congresista más!',\n",
              " 'era trump, china’ presid champion econom global - new york time',\n",
              " 'sad saga john walker lindh, rebel without clue',\n",
              " 'court disagre michigan vote recount - new york time',\n",
              " 'berni sanders’ feud democrat leadership heat - new york time',\n",
              " \"shortest power explan trump' victori ever seen\",\n",
              " 'russia look popul far east. wimp need apply. - new york time',\n",
              " 'johnson amendment, trump vow ‘destroy,’ explain - new york time',\n",
              " 'donald trump march life: ‘you full support!’',\n",
              " 'polic offici found dead long island, suicid suspect - new york time',\n",
              " 'radic chang store world global markets, ready?',\n",
              " 'it’ like make showbiz best friend - new york time',\n",
              " 'trump nomin neil gorsuch suprem court - new york time',\n",
              " 'bidder cast doubt serious mexican border wall project',\n",
              " 'what’ stake us election?',\n",
              " 'israel approv addit fund settlement west bank - new york time',\n",
              " 'tx gov abbott: sign legisl could put sheriff sanctuari citi jail - breitbart',\n",
              " 'donald trump hold ‘thank you’ ralli cincinnati, announc pick defens secretari - new york time',\n",
              " 'lawmak look bipartisanship health care - new york time',\n",
              " 'insid conserv push state amend constitut - new york time',\n",
              " 'donald trump tell n.r.a. hillari clinton want let violent crimin go free - new york time',\n",
              " 'pope francis, trump, japan: tuesday brief - new york time',\n",
              " '#mayorsstand4al day tout support illeg immigr',\n",
              " 'trump’ campaign celebr',\n",
              " 'democrat drag jeff sessions’ confirm fight - breitbart',\n",
              " 'break news: podesta brother pedo ring: mr. trump, drain swamp!! — v, guerrilla economist',\n",
              " 'la frase má destacada del debat de investidura',\n",
              " 'confus jihad hirabah build peac world',\n",
              " 'lazi liber journalist smear bannon',\n",
              " 'australia close detent center manu island, still won’t accept asylum seeker - new york time',\n",
              " 'politico: hillari clinton run - breitbart',\n",
              " 'giant lynx make ador sound, whenev human rub face',\n",
              " 'minnesota cop found guilti philando castil shoot trial',\n",
              " '115 million american kill 30 minut',\n",
              " 'wayn madsen: cia alway serv interest wall street',\n",
              " 'novemb 10: daili contrarian read',\n",
              " 'flashback - reports: obama’ 2008 campaign rep talk iran, hama',\n",
              " 'lesseroftwoevil',\n",
              " 'aya cash: first time ate veget (i 22) - new york time',\n",
              " 'trump advis say isra settlement ‘not illegal’',\n",
              " 'serena william prevail opener, problem - new york time',\n",
              " '’soul man’ sam moor ’honored’ perform trump inaugur',\n",
              " 'ferrel came back bush destroy trump (video)',\n",
              " 'chines govern concern tough talk trump cabinet - breitbart',\n",
              " 'billionair report seiz hong kong hotel taken china - new york time',\n",
              " 'easi know - link',\n",
              " 'homebodi find ultim home offic - new york time',\n",
              " 'ann coulter unload paul ryan’ ’deepli unpopular’ obamacar 2.0 bill - breitbart',\n",
              " 'transgend bathroom debat turn person vermont high school - new york time',\n",
              " 'obama hillari want libya’ gaddafi toppl kill',\n",
              " 'alert: former soro associ warn pro wrong, gold & silver skyrocket like 1970',\n",
              " 'hillari panick fbi weiner emails?',\n",
              " '77 chaotic minutes, trump defend ‘fine-tun machine’ - new york time',\n",
              " 'one polic shift: patrol anxiou america - new york time',\n",
              " 'fight ghost fascist aid real one',\n",
              " 'monday even briefing: brexit, abortion, ‘game thrones’ - new york time',\n",
              " 'eu increas ‘brexit bill’ demand €100 billion, €60 billion',\n",
              " 'arianna huffington’ sleep revolut start home - new york time',\n",
              " 'iranian missil accident destroy iranian ship aim syria!',\n",
              " 'sonoma counti california vote creat largest gmo free zone america',\n",
              " 'fbi’ comey: wikileak ‘intellig porn,’ journal - breitbart',\n",
              " 'clare waight keller name first femal design givenchi - new york time',\n",
              " 'realiti face black canadian nation shame',\n",
              " 'top nfl draft prospect caleb brantley charg punch woman face - breitbart',\n",
              " 'video pacif crest trail associ lavoy finicim murder',\n",
              " '12 life lesson man who’ seen 12000 death',\n",
              " 'trump g.o.p. work win repeal obama’ health act - new york time',\n",
              " 'atlantic’ goldberg: i’m ‘not confident’ trump handl ‘matter life death’ - breitbart',\n",
              " 'orthodox rabbi support trump',\n",
              " 'nuclear tension us, russia reach ‘dangerous’ point',\n",
              " 'gambia join south africa burundi exodu intern crimin court',\n",
              " 'peyton man golf presid trump sunday',\n",
              " 'obama urg donald trump send ‘signal unity’ minor group women - new york time',\n",
              " '‘it’ like miracle’: woman give birth use ovari frozen sinc childhood - new york time',\n",
              " 'uconn’ recip success run, run run - new york time',\n",
              " 'assang ‘final afford opportunity’ give statement rape accus',\n",
              " 'hillary’ puppet show much hillari care god omiss 2 word',\n",
              " 'stock market gone high, it’ problem - new york time',\n",
              " 'john kerri reject suggest u.s. involv turkey coup - new york time',\n",
              " 'trump aid stephen miller: u.s. ’ha absolut sovereign right determin cannot enter country’ - breitbart',\n",
              " '4-year old russian girl speak 7 languages. this?',\n",
              " 'power corpor lobbi quietli back hillari — nobody’ talk',\n",
              " 'maintain sunni spirit face hardship - new york time',\n",
              " 'rush limbaugh: comey fire ’epic troll’ trump dem - breitbart',\n",
              " 'twitter sue govern block unmask account critic trump - new york time',\n",
              " 'warriors, resili home, cruis cavali - new york time',\n",
              " 'comey letter clinton email subject justic dept. inquiri - new york time',\n",
              " 'spain, malta, u.s./uk pressure, refus allow russian carrier group refuel port',\n",
              " 'review: radiohead’ ‘a moon shape pool,’ patient perfection - new york time',\n",
              " 'man militar polic stand rock work',\n",
              " 'woman arrest properti land stolen dapl',\n",
              " 'pulitz prizes: new york time win 3 daili news propublica share public servic award - new york time',\n",
              " 'vanquish wit takeover: bushes, clinton attend donald trump’ inaugur - breitbart',\n",
              " 'specul possibl obama pardon edward snowden, bow bergdahl chelsea man - breitbart',\n",
              " 'cheesi mash potato soul - new york time',\n",
              " 'unprincipl wapo editor damn comey critic - join',\n",
              " 'nation ‘wrecked’ immigration: civil war brew do-good swede turn muslim migrants’ violence, rape murder',\n",
              " 'man, 73, shot dead offic crucifix, gun, polic say - new york time',\n",
              " 'exclusive—rep. jim jordan trump’ first 100 days: ‘i think we’r great start’ - breitbart',\n",
              " 'haley: attack syria ’one president’ finest hours’ - breitbart',\n",
              " 'justin bieber defec ador irish fan hotel window',\n",
              " 'cancer agenc fire withhold ‘carcinogen glyphosate’ document',\n",
              " 'gianno caldwel claim hillari care black vote, black live',\n",
              " 'isi use ramadan call new terrorist attack - new york time',\n",
              " '’daili show’ mock ’mahatma blondie’ megyn kelly’ nbc debut',\n",
              " 'health care bill’ failure: part ’art deal’ - breitbart',\n",
              " 'lewandowski: comey ’a liar’ - look sign major book deal - breitbart',\n",
              " 'kimberli guilfoyl discuss potenti white hous press secretari job interview',\n",
              " 'clinton’ campaign chairman john podesta invit occult ‘spirit cooking’ dinner marina abramović',\n",
              " 'obama coalit crumbled, leav open trump - new york time',\n",
              " 'pregnanc chang brain way may help mother - new york time',\n",
              " 'fema open loan window red cross tri shut shelter',\n",
              " 'gaiaportal: interweb gaia energet strengthen',\n",
              " 'scarborough: trump poop pants, call ’modern art’ - breitbart',\n",
              " 'cooking, invest time. work. both. - new york time',\n",
              " 'bad news jackson famili woman leak star’ sick $900k sex secret',\n",
              " 'gorsuch, london, republican party: thursday even brief - new york time',\n",
              " 'emma morano, last person born 1800s, die - breitbart',\n",
              " 'loserpalooza: 9 craziest scene anti-trump protest - breitbart',\n",
              " 'trump victori mean africa?',\n",
              " 'vision life mar earth’ depth - new york time',\n",
              " 'obama cancel talk, rodrigo dutert philippin say regret slur - new york time',\n",
              " 'new jersey increas ga tax 23¢, end long polit stalem - new york time',\n",
              " 'abc: manchest attack ’like inflam anti-islam sentiment’ - breitbart',\n",
              " 'hidden plain sight – global depopul agenda',\n",
              " 'job american - new york time',\n",
              " 'sander ask obama interven dakota access pipelin disput',\n",
              " 'googl add job section search engine, includ employ rate - breitbart',\n",
              " 'cri jordan: meme won’t die - new york time',\n",
              " 'dem rep sánchez: trump use ’fear’ muslim immigr promot polici ’undermine’ valu - breitbart',\n",
              " 'announc saker commun german saker blog | vineyard saker',\n",
              " 'shoot victims’ famili watch gun measur stall - new york time',\n",
              " 'imag reveal crash schiaparelli mar lander',\n",
              " 'grassroot coalit share ‘mani question concern betsi devos’ senat',\n",
              " 'octob 28: daili contrarian read',\n",
              " 'trump inaugur balls: ’now work begin ... play games’ - breitbart',\n",
              " 'trump’ choic stephen bannon nod anti-washington base - new york time',\n",
              " 'media outrag white hous ’exclusion’ fake news - breitbart',\n",
              " 'benni morris’ unten denial ethnic cleans palestin',\n",
              " 'obama: hillari clinton pardon could heal divid nation',\n",
              " 'except handl',\n",
              " 'nota conceptu para la presidencia de rusia',\n",
              " 'respons philippin presid fatal blast rais fear - new york time',\n",
              " 'david adjay design museum speak differ languag - new york time',\n",
              " 'bulletin: righteou jew trump!; rule ruin gop establishment; etc.(60 items!)',\n",
              " 'britain reduc terror level one notch ‘severe’ terror cell arrest',\n",
              " 'mute alone, never short kind word friend - new york time',\n",
              " 'iranian militari command claim rogu nation send elit fighter’ infiltr us europ',\n",
              " 'account',\n",
              " 'watch: muslim student claim non-believ kill islam countri - breitbart',\n",
              " 'yemen yet anoth “fals flag” protect saudi us interest middl east | new eastern outlook',\n",
              " 'watch: muslim ‘palestinians’ declar “we follow prophet muhammad, kill christian jews”',\n",
              " 'street dog kerala call upon superdog krypto rescu human',\n",
              " 'israel track ‘anti-government’ journalist facebook',\n",
              " 'new alaska law take first step common core',\n",
              " 'key baylor footbal execut demarko butler fire text scandal - breitbart',\n",
              " 'calgari airport arriv yyc',\n",
              " 'georg michael wrestl fame. frank sinatra advice. - new york time',\n",
              " 'sharon olds, laureat sexuality, scrutin bodi ‘odes’ - new york time',\n",
              " 'blue collar elect shock liber media',\n",
              " '‘they die now’ - new york time',\n",
              " 'polic fire rubber bullet pipelin protest',\n",
              " 'ann coulter hit suppos ’gay icon’ kathi griffin isis-crib antic',\n",
              " \"contamin food china enter u.s. 'organic' label\",\n",
              " 'ten famou peopl read summer - new york time',\n",
              " 'hillari clinton knew 5 year ago anthoni weiner pedophil - wikileak',\n",
              " '$150 million stairway nowher far west side - new york time',\n",
              " 'cyber war \\x97 trifl catastroph : inform',\n",
              " 'presid putin ask us stop provok russia',\n",
              " 'inquiri cloud de blasio’ bid come strong manag ’17 race - new york time',\n",
              " 'us drone strike afghanistan kills, wound sever civilian',\n",
              " 'bobbi hutcherson, vibraphonist colorist rang sound, die 75 - new york time',\n",
              " 'amnesti advoc boycott agenc meet pro-american advoc invit - breitbart',\n",
              " 'project verita 4: robert creamer’ illeg $20,000 foreign wire transfer caught tape',\n",
              " 'ex-flotu michel obama: trump want feed ’crap’ kid',\n",
              " 'south sudan slide closer war gunfir rumbl capit - new york time',\n",
              " '“nation mood” focu group reflect angry, divid america',\n",
              " 'bankrupt puerto rico vote u.s. statehood - breitbart',\n",
              " 'overwhelm ‘brexit’? basic - new york time',\n",
              " 'seattle’ gay mayor accus sexual molest teen 1980 - breitbart',\n",
              " 'gender fluiditi runway - new york time',\n",
              " 'us nato attack putin militari drill russia – world war 3 red alert kopya',\n",
              " 'new clinton email came underag sex pest anthoni weiner',\n",
              " 'montana bear attack, lesson hope, surviv first aid - new york time',\n",
              " '‘what best america’ - new york time',\n",
              " 'pecan step pie plate - new york time',\n",
              " 'barack obama plagiar ’don’t tell word don’t matter’ - breitbart',\n",
              " 'lower back ache? activ wait out, new guidelin say - new york time',\n",
              " '‘if sleep hour, 30 peopl die’ - new york time',\n",
              " '‘veep’ season 5, episod 7: littl danc ... - new york time',\n",
              " '‘dr. oz,’ trump offer placebo transpar - new york time',\n",
              " 'comment gold medalist wrestler get violent polic — 7 cop choos engag deadli forc buck roger',\n",
              " 'one year water orang counti four day - breitbart',\n",
              " 'doctor enemies: afghan forc target m.s.f. hospital? - new york time',\n",
              " '2,700-year-old hebrew mention jerusalem found',\n",
              " 'spirit cooking: disturb podesta email yet? (warning: graphic content)',\n",
              " 'donald trump’ misstep risk put ceil support swing state - new york time',\n",
              " 'green party’ margaret flower challeng us senat debat maryland undemocrat',\n",
              " 'offic rescu drown deer pool quick-think',\n",
              " 'police: suspect punch armi veteran, steal servic dog outsid home bronx - breitbart',\n",
              " 'yikes! megyn kelli receiv rude awakening- remind she’ replaceable!',\n",
              " 'iran send elit irgc warfight europ unit state prepar battl',\n",
              " 'hillari endors donald trump presid accord wikileak',\n",
              " 'woodward: trump dossier ’garbag document’ - intellig chief ’apologize’ trump - breitbart',\n",
              " 'emmi nomin 2016: traci morgan emot return ‘saturday night live’ - new york time',\n",
              " 'trump pick mick mulvaney, south carolina congressman, budget director - new york time',\n",
              " 'donald trump, el primer president naranja de lo estado unido',\n",
              " 're: attorney gener loretta lynch plead fifth?',\n",
              " 'russia: u.s. missil defens ’pose deep risk’ secur asia',\n",
              " 'washington ‘plan b’ syria realli mean?',\n",
              " 'upset brexit, british jew look germani - new york time',\n",
              " 'girl ask 20 boyfriend give iphone, use money buy hous',\n",
              " 'amnesti intern slam obama gov kill 300 civilian syria',\n",
              " 'find flock: rural writer’ book club - new york time',\n",
              " 'venezuela crisi enter danger phase maduro foe go milit',\n",
              " 'emigr super bloc part viii:th quasi-leg coup-hillari clinton inform oper elect 2016',\n",
              " 'could you? 19 question ask love one vote way - new york time',\n",
              " 'bbc ask – realli happen clinton haiti?',\n",
              " 'trump pick thoma bossert top counterterror advis - new york time',\n",
              " 'come unglu',\n",
              " 'trump jr. suspici help arizona woman push stall car, use photo op (video)',\n",
              " 'suicid chicago polic offic skyrocket',\n",
              " 'think suv safe? shock video',\n",
              " '20 peopl tortured, kill sufi muslim shrine pakistan',\n",
              " 'comment architectur clever arrang bricks: man transform heal process architectur clever arrang bricks: man transform heal process - new earth media',\n",
              " 'hybrid war 8. strategi africa – introduct',\n",
              " 'julian assang speak prerecord rt interview (11/5/16)',\n",
              " 'watch: israel love hollywood actor issu major plea america 3 minut that’ll rock elect',\n",
              " '‘s.n.l.,’ donald trump botch ‘independ day’ moment - new york time',\n",
              " 'exclusive: congresswoman marsha blackburn says, ‘elimin net neutral preserv open internet’ - breitbart',\n",
              " 'attach year-round greenhous home',\n",
              " 'sheriff clark obama’ final days: “obama’ like tenant who’ evict property, he’ gonna trash place way door” [video]',\n",
              " '45 weird ban women iran',\n",
              " 'end game close clinton deep state turn',\n",
              " 'trump fight chanc establish | new eastern outlook',\n",
              " 'trade stanc toward china, clinton trump signal chill - new york time',\n",
              " 'review: ‘the secret life pets’ amuses, miss opportun - new york time',\n",
              " 'first case demonetisation-rel hiv man unprotect sex atm machin',\n",
              " '5 thing need know dakota access pipelin protest',\n",
              " 'koch brother battl prevent dark money disclosur south dakota',\n",
              " 'milo berkeley event evacu mask protest light fires, storm venu - breitbart',\n",
              " '\"authoritarianism\": west demon strong, popular leader',\n",
              " 'swedish journo: sweden collaps without illeg migrant',\n",
              " 'promis internet career vine dead? write newsbiscuit cheer',\n",
              " 'iowa, trump voter unfaz controversi - new york time',\n",
              " 'radic american-grown marxist terror group made announc januari 20th | conserv daili post',\n",
              " 'guardian opinion writer: trump, bannon count terrorist ’massacre’',\n",
              " 'putin’ pro-trump onlin troll spill bean samantha bee',\n",
              " 'along mosul’ front line, desper civilian dug-in troop fighter - new york time',\n",
              " 'second avenu subway opens, train delay end (happy) tear - new york time',\n",
              " '71-year-old cher don see-through top nippl pasti billboard award',\n",
              " 'report: stop nine percent illeg alien border crosser would pay trump’ border wall - breitbart',\n",
              " 'ice union issu final warn voter',\n",
              " 'elit new york polic unit rehears terrorist attack - new york time',\n",
              " \"trump' hollywood star vandal out shameless new video, taunt polic seek\",\n",
              " 'california today: view san francisco’ lean tower space - new york time',\n",
              " 'matthews: trump’ speech putin saying, ’america first’ ’hitlerian background’ - breitbart',\n",
              " 'vladimir putin valdai intern discuss club : «shape world tomorrow», vladimir putin',\n",
              " 'chines social media rage unit airlin controversi - breitbart',\n",
              " 'america better without border',\n",
              " '’chaos’: terror tie make venezuela direct threat usa, former un secur council presid say - breitbart',\n",
              " 'rick ross documentari video doubl ad checker - new york time',\n",
              " 'oil spill pacif ocean sinc last month total ignor',\n",
              " 'podesta mills: “we go dump emails”',\n",
              " 'thoughtlessli disbeliev “conspiraci theories” need read',\n",
              " 'dr. david duke dr. slatteri expos hillary’ treason trump & duke win!',\n",
              " 'russian frigat syrian cost blast terrorist hq cruis missil (video)',\n",
              " 'hillari clinton like covert action stay covert, transcript show - new york time',\n",
              " 'us: kurdish troop involv invad isi capit raqqa',\n",
              " 'awaken human await fulli script end controversi elect day near',\n",
              " 'georg soros-back climat march bring celeb nation mall swelter saturday - breitbart',\n",
              " 'edward snowden’ long, strang journey hollywood - new york time',\n",
              " '“black trump” man belong murder cult',\n",
              " 'bill clinton’ lover: call ruthless hillari ‘the warden’',\n",
              " \"russia, cina e arabia saudita domano l'egemonia del dollaro, di ariel noyola rodríguez\",\n",
              " 'third month, india’ cash shortag begin bite - new york time',\n",
              " 'there’ one trump administr posit that’ gain popular it’ go shock - breitbart',\n",
              " 'bill clinton said white middle-class life expect declin obama year',\n",
              " 'furiou eric holder issu dire warn comey’ partisan smear',\n",
              " \"memo trump: 'action day!'\",\n",
              " 'chao desper thousand flee aleppo amid govern advanc - new york time',\n",
              " 'wildfir empti fort mcmurray alberta’ oil sand region - new york time',\n",
              " 'schumer: session investig - ’seem violating’ recus - breitbart',\n",
              " 'amid division, march washington seek bring women togeth - new york time',\n",
              " 'zoe saldana: trump hollywood ’got cocky, becam arrog bullies’',\n",
              " '‘anti-establishment’ trump plan appoint goldman sach georg soro insid',\n",
              " 'cholesterol drug men gonads?',\n",
              " 'trump: flynn treat ’veri unfair’ ’fake media,’ illeg leak - breitbart',\n",
              " 'california today: virtual reality, investig trayvon martin case - new york time',\n",
              " 'nearli 8 decad later, apolog lynch georgia - new york time',\n",
              " 'marcia clark final moment savor emmi - new york time',\n",
              " '‘brexit’ speech, theresa may outlin clean break u.k. - new york time',\n",
              " 'man hate black men found victim care other - new york time',\n",
              " 'michael flynn fail disclos incom russia-link entiti - new york time',\n",
              " 'feder judg throw convict d.c. sniper’ four life sentenc',\n",
              " 'donald trump, obama, thanksgiving: weekend brief - new york time',\n",
              " 'очередная автоколонна мчс с гуманитарной помощью направилась в донбасс',\n",
              " 'vine 2013-2016: celebr life death app 12 clip',\n",
              " 'squatti potti ceo: griffin imag ’so divis disturbing, don’t decision, really’',\n",
              " '11 thing let go new year',\n",
              " 'comment polic union post pic hillari arrest facebook dan',\n",
              " 'koch brother secretli alli w. georg soro hillari clinton',\n",
              " 'trump expand search secretari state - new york time',\n",
              " \"teacher 11 yr old: 'i can't wait trump elected,he' go deport muslims'\",\n",
              " 'cost, choice, top concern health insur custom - new york time',\n",
              " 'shaq announc plan run sheriff 2020 - breitbart',\n",
              " 'illeg immigr cross border vote',\n",
              " 'pirat fail take helm: iceland’ pirat parti gain mileag enough steadi ship alon',\n",
              " 'billionair who’ build davo - new york time',\n",
              " 'run danger alaskan trail - new york time',\n",
              " 'la película de su vida descubr que ha llevado siempr un trozo de lechuga entr lo dient',\n",
              " 'dem win congression basebal game, give trophi republican steve scalis - breitbart',\n",
              " 'franc 2015 present: strict gun control paper tiger - breitbart',\n",
              " 'china, russia, silk road, commodities, nixon massiv bull market gold & silver',\n",
              " 'troubl quarterback johnni manziel appear shop mall sign autograph next super bowl - breitbart',\n",
              " 'bob dylan accus lift part nobel prize speech sparknot',\n",
              " 'blimp crash e. coli contamination, snakebitten u.s. open wit spectat death - breitbart',\n",
              " 'public employe shadow world american carnag',\n",
              " 'espn’ lz granderson: ’justified’ think kaepernick ’blackballed’ nobodi sign - breitbart',\n",
              " 'prescript painkil death drop 25% state legal marijuana',\n",
              " 'we’r low-growth world. get here? - new york time',\n",
              " 'istanbul, donald trump, benjamin netanyahu: morn brief - new york time',\n",
              " 'hitler hillary?',\n",
              " 'dalian wanda’ hollywood event product - new york time',\n",
              " 'comment 2:00pm water cooler 11/2/2016 timmi',\n",
              " 'breakdown clinton money machin',\n",
              " 'california, forefront climat fight, won’t back trump - new york time',\n",
              " 'g.e., 124-year-old softwar start-up - new york time',\n",
              " '$2,700 hillari clinton ‘hamilton’? would enough - new york time',\n",
              " 'brain concuss children adults: know vaccin damag',\n",
              " 'trump great — paul craig robert',\n",
              " 'hillari frantic dirti secret implodes, get wors prison bombshel',\n",
              " 'rent car? know rule road - new york time',\n",
              " 'impeach political. brazil’ someth sinister? - new york time',\n",
              " 'trump, interview, moder view defi convent - new york time',\n",
              " 'review: ‘sweetbitter,’ ‘bright lights, big city’ restaur set - new york time',\n",
              " 'gonzaga beat south carolina final four shot anoth first - new york time',\n",
              " 'gorka: trump ’i interventionist commander-in-chief,’ ’noth changed’ - breitbart',\n",
              " 're: thank fbi: clinton email investig shift poll number significantli trump’ favor',\n",
              " 'race, class, dictat republican futur',\n",
              " 'gorsuch: scalia ’lion law’ - judg look law demands, prefer - breitbart',\n",
              " 'nc state provid student post-elect comfort food, therapi',\n",
              " 'iraqi troop push mosul; 202 kill across iraq',\n",
              " 'pregnant women turn marijuana, perhap harm infant - new york time',\n",
              " 'biggest winner loser 2016 u.s. presidenti elect',\n",
              " 'trump psychic? listen word one year ago, look happened!',\n",
              " 'mccain: trump’ attack press ’how dictat get started’ - breitbart',\n",
              " 'judgment day: one reason everi christian jew america vote donald trump',\n",
              " 'coup stolen elect',\n",
              " 'сми: в россии создадут систему для отслеживания приближающихся со стороны солнца тел',\n",
              " '5 thing need know black dakota access pipelin protest',\n",
              " 'germany: iraqi asylum-seek convict rape chines student',\n",
              " 'teenag boy knock classmat assault femal teacher face- it’ epic!',\n",
              " 'take bring hillari clinton justice?',\n",
              " 'ice round 44 crimin alien texa capit',\n",
              " 'election: hate, grief, new stori',\n",
              " 'hillari question michel obama; help out?',\n",
              " 'keith vaz, british lawmaker, quit senior post amid sex drug scandal - new york time',\n",
              " 'comment sunday devotional: whole univers grain sunday devotional: whole univers grain — fellowship mind | kommonsentsjan',\n",
              " 'donald trump, syria, emperor akihito: morn brief - new york time',\n",
              " 'hell frozen over! michel obama made hillary-destroy move twitter',\n",
              " 'flynn: critic call nuclear scientist miss usa ’dumb’ diss femin call health care ’privilege’ - breitbart',\n",
              " 'hampshir colleg student accus assault basketbal player wear hair braids, claim ’cultur appropriation’ - breitbart',\n",
              " 'obamamometer’ toxic legacy: rule lawless',\n",
              " 'simon manuel, gold rippl beyond pool - new york time',\n",
              " 'vote machin program order steal elect',\n",
              " 'redraw tree life: scientist discov new bacteria groups, stun microbi divers underground',\n",
              " \"trump putin: 'we destroy isi all!'\",\n",
              " 'photo: game camera catch glimps possibl 3-antler buck',\n",
              " 'turkey’ relat europ sink amid quarrel netherland - new york time',\n",
              " 'wikileak document reveal unit nation interest ufo [video]',\n",
              " 'blue state blues: deliber politic intimaci',\n",
              " 'clare hollingworth, report broke news world war ii, die 105 - new york time',\n",
              " 'north miami polic offic shoot man aid patient autism - new york time',\n",
              " \"path total dictatorship: america' shadow govern silent coup\",\n",
              " 'effort curb polic abus mix record, uncertain futur - new york time',\n",
              " 'signal major bottom gold & silver?',\n",
              " 'hey ho, it’ old: england embrac punk rock 40 year later - new york time',\n",
              " 'cano reek genocide, theft white privilege, say canadian professor',\n",
              " 'illeg immigr advoc pledg resist deport trump',\n",
              " 'cdc scientist confirm donald trump right vaccin autism',\n",
              " 'breitbart news daily: drain swamp - breitbart',\n",
              " 'trump: media’ frankenstein monster',\n",
              " 'watch: toni romo say goodby dalla cowboy instagram video - breitbart',\n",
              " 'globalism: far-right conspiraci theori buoy trump - new york time',\n",
              " 'georgia father convict murder toddler’ death hot car - new york time',\n",
              " 'richard boll die 90 wrote ‘what color parachute?’ - new york time',\n",
              " 'stranahan: steve bannon nail media’ fight trump - breitbart',\n",
              " 'texa elector expect massiv corrupt relat elector colleg vote',\n",
              " 'guilty: power nullif counteract govern tyranni',\n",
              " '1/4 trillion new debt 30 day',\n",
              " 'tori councillor say homeless peopl ‘eliminated’',\n",
              " 'review: ‘hillbilli elegy,’ tough love analysi poor back trump - new york time',\n",
              " 'criminal-in-chief?',\n",
              " 'govern lie, movi',\n",
              " 'trump brexit defeat globalism, anyway',\n",
              " 'face congress, sport offici (not all) begin confront sexual abus - new york time',\n",
              " 'airbnb end fight new york citi fine - new york time',\n",
              " 'big pharma’ martin shkreli suspend twitter - breitbart',\n",
              " 'next big tech corridor? seattl vancouver, planner hope - new york time',\n",
              " 'evid robot win race american job - new york time',\n",
              " 'see africa road - new york time',\n",
              " 'happen hip-hop hillari goe dead-broke? brace yourselves.',\n",
              " 'bill maher isn’t high trump: state free speech new era - new york time',\n",
              " 'l.p.g.a. tour donald trump: it’ complic - new york time',\n",
              " 'legend art cashin trump presidency, new world order, gold, brexit, great depress see panic',\n",
              " 'fl sheriff: ’not day goe don’t arrest lot illeg aliens’ ’preying’ peopl - breitbart',\n",
              " 'donald trump threaten cancel berkeley feder fund riot shut milo event',\n",
              " 'концепция записка российского председательства',\n",
              " 'bill herz, last ‘war worlds’ broadcast crew, die 99 - new york time',\n",
              " 'gari johnson equat syria death caus assad west - new york time',\n",
              " 'republican senat bill defund un anti-israel resolut',\n",
              " 'rose evansky, pioneer women’ hairstyling, die 94 - new york time',\n",
              " 'blackstone, saudi arabia announc $40 billion invest u.s. infrastructur - breitbart',\n",
              " 'satur fat heart disease: “the greatest scam histori medicine”',\n",
              " 'dem sen merkley: gorsuch nomin ’court-pack scheme’ - turn nomin - breitbart',\n",
              " 'four common mistak burn wood',\n",
              " 'push internet privaci rule move statehous - new york time',\n",
              " 'madonna gave surpris pop-up concert support clinton. there. - new york time',\n",
              " 'trump support plan anti-trump ralli lack tax reform',\n",
              " 'british healthcar offer glimps futur obamacar',\n",
              " 'trump iranian presid rouhani: ’better careful’ - breitbart',\n",
              " 'breaking: sec defens carter attempt fool american public veterans! caught red-handed!',\n",
              " 'putin’ advis take credit trump victory: ‘mayb help bit wikileaks’',\n",
              " 'warren buffett stake suggest appl grown - new york time',\n",
              " \"re: fbi' clinton email investig shift poll number significantli trump’ favor\",\n",
              " 'hillari horrifi 2 pic surfac overnight didn’t want',\n",
              " 'paul lepage, governor maine, say he’ quit - new york time',\n",
              " 'colorado radio station’ paul martin interview dave hodg elect fraud stand rock',\n",
              " 'bill clinton want call someth complet ridicul hillari elect',\n",
              " 'son’ death, salli mann stage haunt show - new york time',\n",
              " 'trump team’ link russia crisscross washington - new york time',\n",
              " 'north korean arrest kill kim jong-un’ half brother - new york time',\n",
              " 'surgeon admit mammographi outdat harm women',\n",
              " 'war street paris: arm migrant fight run battl french capit',\n",
              " 'oscar voter: meryl streep nomin anti-trump speech',\n",
              " 'texa enact ’anti-sharia’ law',\n",
              " 'chicago polic board chair: windi citi need feder help turn tide crime - breitbart',\n",
              " 'look beyond novemb 8th - song oligarchi doom',\n",
              " 'neil young celebr 71st birthday perform stand rock',\n",
              " 'exclus — amid paul ryan’ obamacar 2.0 push, mississippi’ chri mcdaniel prep potenti 2018 senat run - breitbart',\n",
              " 'boom: short list peopl inspir michel obama',\n",
              " '‘more artist go boycott’: grammi face fallout fraught award - new york time',\n",
              " 'video: idiot destroy trump’ hollywood star, get bad news second later',\n",
              " '“he elit want there, global economi collapse”',\n",
              " '4 best health benefit sweat',\n",
              " 'senat confirm scott pruitt e.p.a. head - new york time',\n",
              " 'crickets, snakes, crabs: mix fact fraud new york’ subway - new york time',\n",
              " 'sessions’ potenti deputi face stern test russia inquiri - new york time',\n",
              " '‘suicid squad’ top box offic second weekend - new york time',\n",
              " 'health insur plan rate hike obamacar exchang - breitbart',\n",
              " 're: look like someon think democrat ohio full manur',\n",
              " 'syrian war report – novemb 14, 2016: govt forc relaunch offens oper insid outsid aleppo',\n",
              " 'mysteri solved! get hillari clinton get movin’ – twitchy.com',\n",
              " 'senat narrowli pass rollback obama-era ‘auto-i.r.a.’ rule - new york time',\n",
              " 'cramp costli bay area, cri build, baby, build - new york time',\n",
              " 'champion optimism, obama hail clinton polit heir - new york time',\n",
              " 'fiona appl releas trump protest chant - new york time',\n",
              " 'susan rice: u.s. must integr lgbt right gov’t foreign polici',\n",
              " 'trump organ move avoid possibl conflict interest - new york time',\n",
              " 'sweden brink? polic forc push break point violenc amid migrant influx',\n",
              " 'comment hemp vs cotton: ultim showdown hemp: readdress cannabi – kuebiko.co',\n",
              " 'jare kushner, trump’ son-in-law, clear serv advis - new york time',\n",
              " 'fisherman face life prison catch $500,000 worth cocain sell - breitbart',\n",
              " 'step ring roll punch - new york time',\n",
              " 'adnan syed, ‘serial’ podcast, get retrial murder case - new york time',\n",
              " \"scientist say weird signal space 'probably' alien\",\n",
              " 'u.s. swimmers’ disput robberi claim fuel tension brazil - new york time',\n",
              " '5 way take self-car vacat - new york time',\n",
              " '370 economist sign letter urg america vote donald trump',\n",
              " 'campaign long, expens chaotic. mayb that’ good thing. - new york time',\n",
              " '‘alien megastructure’ star target $100 million seti search',\n",
              " 'brazen kill myanmar lawyer came spar militari - new york time',\n",
              " 'jane pauley back — - new york time',\n",
              " 'deutsch bank consid altern pay cash bonu',\n",
              " '“danni dyer’ footbal foul ups” dvd 90 second',\n",
              " 'lack oxford comma could cost main compani million overtim disput - new york time',\n",
              " 'european parliament committe consid legal right robot - breitbart',\n",
              " 'rex tillerson, aggress dealmak whose tie russia may prompt scrutini - new york time',\n",
              " 'over: fbi conduct new investig email clinton’ privat illeg server',\n",
              " 'heart & mines: us empire’ cultur industri',\n",
              " 'report: megyn trash trump, newt… murdoch announc replac avail',\n",
              " 'russian scientist track sea lion space',\n",
              " 'seiz definit ‘populism,’ reuter warn us chao come',\n",
              " 'seaworthi readi earli unveil - new york time',\n",
              " 'donald trump add k.t. mcfarland nation secur team - new york time',\n",
              " 'snowstorm bring wintri mix slush gripe - new york time',\n",
              " 'republicans, wilders, tillerson: thursday even brief - new york time',\n",
              " 'review: bryan cranston shine lyndon johnson ‘all way’ - new york time',\n",
              " 'samsung urg consum stop use galaxi note 7s batteri fire - new york time',\n",
              " 'elect result discuss 2016 presidenti elect (open thread)',\n",
              " 'ag lynch told fbi director comey go public new clinton email investig',\n",
              " '“donald trump rise white ident politics”',\n",
              " 'red, blue divided: six view america - new york time',\n",
              " 'franc identifi 2nd man attack church kill priest - new york time',\n",
              " 'dreamer arrest nationwid gang crackdown',\n",
              " 'maxin waters: american public ’get weary’ trump impeach yet - breitbart',\n",
              " 'wwn’ horoscop',\n",
              " 'deport italian mobster caught sneak across u.s.-mexico border',\n",
              " 'leak audio: hillari clinton push “rigging” palestin elect 2006',\n",
              " 'iranian-saudi proxi struggl tore apart middl east - new york time',\n",
              " 'lavrov kerri discuss syrian settlement',\n",
              " \"l'influenc de usa et de l'otan dan le rapport de l’ue avec la chine, manlio dinucci\",\n",
              " 'open border group gird h-1b fight',\n",
              " 'weinerg expos darker dirtier secret imagined?',\n",
              " 'trump’ elect break chain polit correct',\n",
              " 'whitehouse.gov take climat page, put ’america first’ energi plan - breitbart',\n",
              " 'iran warn president-elect trump mess sweetheart nuclear deal obama',\n",
              " 'toni perkins: trump eo re-affirm jefferson’ doctrin separ church state',\n",
              " 'moon fell heaven',\n",
              " '‘mom’ star launch campaign plan parenthood',\n",
              " 'assad’ lesson aleppo: forc works, consequ - new york time',\n",
              " 'pence: bossert bannon weren’t demoted, ’continu play import polici roles’ - breitbart',\n",
              " 'bundi ranch occupi acquit count challeng corrupt bureau land manag',\n",
              " 'report: googl face fine $9 billion eu antitrust case - breitbart',\n",
              " 'don’t ask thom york write cover quot book',\n",
              " 'internet flasher',\n",
              " 'gretchen carlson suit aim retali discrimin - new york time',\n",
              " 'googl launch ai program detect ’hate speech’ - breitbart',\n",
              " 'poll show hillari lead useless mislead [cartoon]',\n",
              " 'last-second lane merger good traffic - new york time',\n",
              " 'macau, skip casinos, embrac past - new york time',\n",
              " 'montreal, ungainli unlov christma tree - new york time',\n",
              " 'photo jupit nasa spacecraft, near far - new york time',\n",
              " 'trump’ labor pick, andrew puzder, critic minimum wage increas - new york time',\n",
              " 'nico rosberg take formula one drivers’ titl despit lewi hamilton’ win abu dhabi - new york time',\n",
              " 'sensori isol tank taught brain - new york time',\n",
              " 'chelsea handler botch tweet attack trump’ grandchild',\n",
              " 'report: trump move tax reform plan without speaker paul ryan - breitbart',\n",
              " 'ag jeff session unveil program acceler deport imprison illeg - breitbart',\n",
              " 'former us attorney dc: new hillari email probe result ‘revolt’ insid fbi',\n",
              " 'keep appear ruin former dalla banker - new york time',\n",
              " 'sesam seed knee osteoarthr',\n",
              " 'white cop interact black real life',\n",
              " 'pennsylvania republican push ban privat gun sale - breitbart',\n",
              " 'review: ‘warcraft,’ orc differ domain, fight heart - new york time',\n",
              " 'good peopl share bad info — here’ need fact check click share',\n",
              " 'all, charit wed registri - new york time',\n",
              " 'it: nypd raid hillary’ property! found ruin life • usa newsflash',\n",
              " 'feinstein: gorsuch’ ’originalist’ doctrin ’realli troubling’ - origin would allow segreg - breitbart',\n",
              " 'confront flare obama’ travel parti reach china - new york time',\n",
              " '3 reason appli job trump administr',\n",
              " 'thought silver market rigged!',\n",
              " 'hear agn martin’ seren john zorn’ frenzi music? - new york time',\n",
              " 'must see! “welcom family.” mani hispanic-american vote donald trump',\n",
              " 'iraqi forc enter western mosul, fierc battl isi - new york time',\n",
              " 'european futur - putin migrant crisi [video]',\n",
              " 'roll stone defam case, magazin report order pay $3 million - new york time',\n",
              " 'hillari sick & tire suffer weiner backup',\n",
              " 'taiwan, italy, joe mcknight: friday even brief - new york time',\n",
              " 'shiit militia say close tal afar, turkey warn limit',\n",
              " 'brother clinton’ campaign chair activ foreign agent saudi arabian payrol',\n",
              " '‘we must fight them’: trump goe conserv freedom caucu - new york time',\n",
              " 'isi kidnaps, kill least 30 civilian afghanistan',\n",
              " 'hold hillari account',\n",
              " 'break : ted cruz call special prosecutor investig hillari – truthfe',\n",
              " 'spare gunman charleston, churchgoer describ night terror - new york time',\n",
              " 'war satur fat harm peopl poor countri shun tradit fat like coconut oil',\n",
              " 'democrats, garland mind, mobil suprem court fight - new york time',\n",
              " 'comment 4 best kind milk aren’t dairi 4 best kind milk aren’t dairi – collect evolut | apg editori',\n",
              " 'harri reid blast comey misconduct, drop bombshell: fbi sit russian-trump info',\n",
              " 'nation review, conservat inc., plan cave even immigration!',\n",
              " '[watch] thug call us marin “pussy” – bare live tell tale',\n",
              " 'next us presid psycho lesbian? (plu 2 break news videos)',\n",
              " 'critic see effort counti town purg minor voter roll - new york time',\n",
              " 'even briefing: hillari clinton, donald trump, cultur revolut - new york time',\n",
              " 'indiana parent lose babi 2 year live jail “abuse” say never happen',\n",
              " 'roll stone paint blue new album - new york time',\n",
              " 'uber extend oliv branch local governments: data - new york time',\n",
              " 'wilders: put dutch first, ’brussels, africa asylum seekers’',\n",
              " 'donald trump: good educ ‘enrich mind soul’',\n",
              " 'watch: brad pitt play afghanistan war gener ’war machine’ teaser - breitbart',\n",
              " 'two power earthquak strike central itali',\n",
              " 'indoor garden made easy: nutritower!',\n",
              " 'elizabeth warren defin sleazi hypocrisi',\n",
              " 'rush limbaugh: o’reilli departur ’natural’ - ’campaign’ - breitbart',\n",
              " 'museum trustee, trump donor, support group deni climat chang - new york time',\n",
              " 'cecil richard credit plan parenthood support stop ahca - breitbart',\n",
              " 'switch chip won’t know anymor',\n",
              " 'u.s. conced $400 million payment iran delay prison ‘leverage’ - new york time',\n",
              " 'australia say foil terrorist plot - new york time',\n",
              " 'orovil dam: state feder govern share blame',\n",
              " 'daili traditionalist: jeff schoep nsm',\n",
              " 'michael moore: joe blow vote trump “ultim f–– elite… human molotov cocktail”',\n",
              " 'jaguar owner shahid khan oppos trump’ immigr ban - new york time',\n",
              " 'anti-trump advert side bu realli visual clever see motion',\n",
              " 'piano man mani faces, stranger stori - new york time',\n",
              " '250,000 ticket releas ‘harri potter curs child’ - new york time',\n",
              " 'fbi visit man home film us postal distribut center',\n",
              " 'hispan crowd boo marco rubio stage',\n",
              " 'fire tv reporter: i’v receiv thousand ’sexual violent’ threat',\n",
              " 'detain illeg alien end 3-day hunger strike',\n",
              " 'break silence, offic testifi kill walter scott - new york time',\n",
              " 'illeg immigr allegedli kill park spot',\n",
              " 'presid trump honor littl sister poor first white hous nat’l day prayer year - breitbart',\n",
              " 'hillari clinton support call recount vote battleground state',\n",
              " 'hbo scrap jon stewart anim comedi seri',\n",
              " 'sentenc murder rare book dealer',\n",
              " 'latest stock market invest book | financi market',\n",
              " 'fashion industri ceo: support plan parenthood ‘civic responsibility’',\n",
              " 'anti-trump protest paid staged, craigslist reveal',\n",
              " 'men, exercis put damper sex life? - new york time',\n",
              " 'bake soda & coconut oil kill cancer: eye-open evid',\n",
              " 'trump, cite evidence, suggest susan rice commit crime - new york time',\n",
              " 'breitbart news daily: gorsuch scotu - breitbart',\n",
              " 'hillari arrested?',\n",
              " 'siri open smart lock let neighbor walk hous',\n",
              " 'donald trump, michael phelps, zika: tuesday even brief - new york time',\n",
              " 'obama furiou fed-up ‘deplorables’ drop 41,000-piec gift',\n",
              " 'l.a. mark 25 year sinc rodney king riot - breitbart',\n",
              " 'de facto us/al qaeda allianc : inform',\n",
              " 'cori booker: ’a paul rever moment’ underway - ’the russian coming’ - breitbart',\n",
              " 'rapper troy ave shot brooklyn - new york time',\n",
              " 'seattl judg ignor jihad convict prior impos refuge reform ban - breitbart',\n",
              " 'texa student skip school protest arrest violent crimin',\n",
              " 'trump aid tri reassur europe, mani wari - new york time',\n",
              " 'china trigger next global recession?',\n",
              " 'bomb kill 140 baghdad - new york time',\n",
              " 'comment black racism martin wright',\n",
              " 'thank fbi: clinton email investig shift poll number significantli trump’ favor',\n",
              " 'u.s. rescu attempt afghanistan miss western hostag hour - new york time',\n",
              " 'rick rule – look 2017 sprott asset manag clients’ money right',\n",
              " \"farm owner arrest protest dakota access pipeline' theft land\",\n",
              " 'trump pois lift ban c.i.a. ‘black site’ prison - new york time',\n",
              " 'tesla’ musk investig solarc congress',\n",
              " '5 ridicul stupid thing men keep women',\n",
              " 'press tv: duff un condemn “moder terrorists”',\n",
              " 'nemesi scourg western world',\n",
              " 'trump budget: ‘a new foundat american greatness’ - breitbart',\n",
              " 'exclus - islam state support vow terror group retak mosul ‘liberators’',\n",
              " 'roll thunder motorcyclist return d.c., honor pow/mia - breitbart',\n",
              " 'interest & fun fact stethoscop',\n",
              " 'china seek bigger role world stage, xi jinp go davo world econom forum - new york time',\n",
              " 'veteran prepar join stand rock protest stop dakota access pipelin',\n",
              " 'photos: latin america condemn venezuela’ ’excess use force’ protest - breitbart',\n",
              " 'sugar doesn’t feed cancer cell may even creat',\n",
              " 'john kerri urg ground militari aircraft ‘key areas’ syria - new york time',\n",
              " 'outsid money favor hillari clinton 2-to-1 rate donald trump - new york time',\n",
              " 'fake news: new york time target breitbart report truth - breitbart',\n",
              " 'blast, new yorker examin psycholog shrapnel - new york time',\n",
              " 'resistance: schwarzenegg call ’grassroot revolution’ u.s. exit pari agreement',\n",
              " 'virginia offici request u.s. inquiri inmat death jail - new york time',\n",
              " 'report voter fraud - crash course.',\n",
              " 'associ press report admit fake news stori hillari clinton.',\n",
              " 'review: garth brook bring rous anthem ballad yanke stadium - new york time',\n",
              " 'sicher trainieren: beim spin gilt ab sofort helmpflicht',\n",
              " 'everi asset class collapse: ‘you need look wealth term mani chicken much ga buy’',\n",
              " 'review: ‘halt catch fire’ time-travel silicon valley’ dawn - new york time',\n",
              " 'obama use religi test favor muslim christian',\n",
              " 'wingsuit flyer vs. tree',\n",
              " 'turkey say airport bomber kyrgyzstan, russia uzbekistan - new york time',\n",
              " 'turmer power 14 artifici drug',\n",
              " 'facebook caught sell target advertis exclud differ race',\n",
              " 'gatlinburg resid return home wildfir destruct - new york time',\n",
              " '10-year-old girl use human bomb nigeria attack',\n",
              " 'shock berkeley poll: california voter want democrat work trump - breitbart',\n",
              " 'famili terror attack victim sue twitter ’provid resourc servic isis’ - breitbart',\n",
              " 'philippin leader vow pardon polic accus mayor’ death - new york time',\n",
              " 'fda found manipul media favor big pharma',\n",
              " 'jay h. lehr: begin end epa',\n",
              " 'imahdi – arriv 28 satan practic leader القادمون',\n",
              " 'ag session dem sen harris: ’i’m abl rush fast - make nervous’ - breitbart',\n",
              " 'u.n. envoy say u.s. still back palestinian state - new york time',\n",
              " 'trump happen',\n",
              " 'japan vote strengthen shinzo abe’ goal chang constitut - new york time',\n",
              " 'in: trump camp caught cam brag “voter suppression” women & black (video)',\n",
              " 'chelsea man ask obama cut sentenc time serv - new york time',\n",
              " 'red sox broadcast jerri remi think foreign player shouldn’t use translat',\n",
              " 'shi’it militia join iraq’ mosul attack',\n",
              " 'escap reign super bowl commercials, polit prove inescap - new york time',\n",
              " 'naval brief 02 novemb 14th, 2016 ledahu',\n",
              " 'scandal video footag anonym expos huma hillari',\n",
              " 'jar new level confront conflict hit washington - new york time',\n",
              " 'clinton transmit classifi info lawyer',\n",
              " 'hillary: russian hack ’guid americans,’ might trump - breitbart',\n",
              " 'gener elect campaign suspend wake manchest suicid bomb',\n",
              " \"'grand slam!' father-son film smash hit famili\",\n",
              " 'venezuela’ econom crisis: mean left failed?',\n",
              " 'herd stamped wild boar kill three islam state jihadist - breitbart',\n",
              " 'venus, mars: believ gender it’ often wrong - new york time',\n",
              " 'obama’ pardon list: hotel magnat own studio 54 - new york time',\n",
              " 'suspect captur ‘ambush-style’ kill two iowa cop',\n",
              " 'megyn [sic] kelly: gowdi triumphantli comment hillari case reopen',\n",
              " 'family-friendli polici that’ friendliest male professor - new york time',\n",
              " 'ringo starr anuncia que deja lo beatl',\n",
              " 'war less immin clinton defeat',\n",
              " 'mi5 chief present russia grow threat british interest',\n",
              " 'washington state upend trump’ travel ban - new york time',\n",
              " 'protect swerve: polic chief caught speeding, get laugh ticket (video)',\n",
              " 'fake news trump hit mexico, explod',\n",
              " 'go wikileaks?',\n",
              " 'former cia director blame millenni wikileak document - breitbart',\n",
              " 'tell stori slavery? - new york time',\n",
              " 'live wire dutch elections: high turnout expected, controversi turkish mosqu poll centr',\n",
              " 'shave mean freedom omar',\n",
              " 'bombshell: leak email expos muslim got obama’ administr',\n",
              " 'nativ american part ten lost tribe jewish people?',\n",
              " 'blm rapper & bill’ alleg son nasti surpris hillari',\n",
              " 'kevin durant join golden state warrior - new york time',\n",
              " 'indian call center becom major center defraud american - breitbart',\n",
              " 'congress: attorney gener lynch ‘plead fifth’ secret iran ‘ransom’ payment',\n",
              " 'lo angel time editori lose trump: ’narcissist,’ ’demagogue’ - breitbart',\n",
              " 'swirl ‘untruths’ ‘falsehoods,’ call lie lie - new york time',\n",
              " 'hillari clinton lead donald trump new hampshir florida, poll show - new york time',\n",
              " 'gene wilder, huma abedin, donald trump: monday even brief - new york time',\n",
              " 'watch: blimp crashes, catch fire us open - breitbart',\n",
              " 'toddler, loos gun car, mother die - new york time',\n",
              " 'asian-american actor fight visibility. ignored. - new york time',\n",
              " 'mexican feel environment?',\n",
              " 'insid donald trump’ last stand: anxiou nomine seek assur - new york time',\n",
              " 'park servic name 24 divers nation landmark - new york time',\n",
              " 'weiner rise white house: alli disgrac ex-congressman hire - breitbart',\n",
              " '“if trump loses, i’m grab musket”: former congressman readi go full revolut',\n",
              " 'decod north korea’ claim success nuclear test - new york time',\n",
              " 'bill belichick wit list testifi aaron hernandez doubl murder case - breitbart',\n",
              " 'l.a. mayor silent city’ rise violent crime - breitbart',\n",
              " 'theresa may, new british prime minister, give bori johnson key post - new york time',\n",
              " 'donald trump, hillari clinton, iphone: wednesday even brief - new york time',\n",
              " \"usa kill 20 million peopl 37 'victim nations' sinc world war ii\",\n",
              " 'polic offic face backlash hillari photo',\n",
              " 'shakespear remain authent bore',\n",
              " 'georgia candid jon ossoff’ film firm financ facebook fact check funder',\n",
              " 'effort defeat isis, u.s. iran imped one anoth - new york time',\n",
              " 'rick ‘put bullet trump’ wilson: potu support see scalis shoot ‘blessing’ - breitbart',\n",
              " 'western intellig agenc run al-qaeda camp north africa',\n",
              " 'trump tell plan parenthood fund stay abort goe - new york time',\n",
              " 'comment hillari clinton’ gun control agenda expos wikileak email braindiseasecalledliber',\n",
              " 'barack obama delay suspend elect hillari forc new fbi email investigation?',\n",
              " 'donald trump incit feuds, g.o.p. candid flee shadow - new york time',\n",
              " 'germany: student forc chant ‘allahu akbar,’ punish refus trip mosqu',\n",
              " 'meteor, space junk, rocket? mysteri flash hit siberia',\n",
              " 'trump nation secur advis call russian envoy day sanction impos - new york time',\n",
              " 'project veritas: implic democrat oper claim credit romney 47% video',\n",
              " 'laid-off americans, requir zip lip way out, grow bolder - new york time',\n",
              " ...]"
            ]
          },
          "metadata": {
            "tags": []
          },
          "execution_count": 20
        }
      ]
    },
    {
      "cell_type": "markdown",
      "metadata": {
        "id": "5U5IiuIfNEI3"
      },
      "source": [
        "## Normal Algorithm Set Up :"
      ]
    },
    {
      "cell_type": "code",
      "metadata": {
        "id": "zLighEYkNEI3"
      },
      "source": [
        "from sklearn.feature_extraction.text import CountVectorizer,TfidfTransformer\n",
        "from sklearn.naive_bayes import MultinomialNB\n",
        "from sklearn.pipeline import Pipeline"
      ],
      "execution_count": 21,
      "outputs": []
    },
    {
      "cell_type": "code",
      "metadata": {
        "id": "oF9onS01NEI4"
      },
      "source": [
        "cv=CountVectorizer()\n",
        "msg=cv.fit_transform(cor)"
      ],
      "execution_count": 22,
      "outputs": []
    },
    {
      "cell_type": "code",
      "metadata": {
        "colab": {
          "base_uri": "https://localhost:8080/"
        },
        "id": "rL86afSONEI4",
        "outputId": "edc80004-4ff3-42c5-cc6c-ab90ee1ab1fc"
      },
      "source": [
        "msg"
      ],
      "execution_count": 23,
      "outputs": [
        {
          "output_type": "execute_result",
          "data": {
            "text/plain": [
              "<18285x17534 sparse matrix of type '<class 'numpy.int64'>'\n",
              "\twith 161520 stored elements in Compressed Sparse Row format>"
            ]
          },
          "metadata": {
            "tags": []
          },
          "execution_count": 23
        }
      ]
    },
    {
      "cell_type": "code",
      "metadata": {
        "id": "YUIVMim3NEI4"
      },
      "source": [
        "tar=messages['label']"
      ],
      "execution_count": 24,
      "outputs": []
    },
    {
      "cell_type": "code",
      "metadata": {
        "colab": {
          "base_uri": "https://localhost:8080/"
        },
        "id": "JhVbs6reNEI4",
        "outputId": "5f2e3b7a-de23-43f0-ea37-a7315409225b"
      },
      "source": [
        "msg.shape"
      ],
      "execution_count": 25,
      "outputs": [
        {
          "output_type": "execute_result",
          "data": {
            "text/plain": [
              "(18285, 17534)"
            ]
          },
          "metadata": {
            "tags": []
          },
          "execution_count": 25
        }
      ]
    },
    {
      "cell_type": "code",
      "metadata": {
        "colab": {
          "base_uri": "https://localhost:8080/"
        },
        "id": "ei6DkegaNEI5",
        "outputId": "29723920-2e1b-4cae-b07a-d18620e7441a"
      },
      "source": [
        "tar.shape"
      ],
      "execution_count": 26,
      "outputs": [
        {
          "output_type": "execute_result",
          "data": {
            "text/plain": [
              "(18285,)"
            ]
          },
          "metadata": {
            "tags": []
          },
          "execution_count": 26
        }
      ]
    },
    {
      "cell_type": "code",
      "metadata": {
        "id": "_3bm24p-NEI5"
      },
      "source": [
        "tfidf=TfidfTransformer()"
      ],
      "execution_count": 27,
      "outputs": []
    },
    {
      "cell_type": "code",
      "metadata": {
        "id": "IBzxW7cONEI5"
      },
      "source": [
        "tf=tfidf.fit_transform(msg)"
      ],
      "execution_count": 28,
      "outputs": []
    },
    {
      "cell_type": "code",
      "metadata": {
        "colab": {
          "base_uri": "https://localhost:8080/"
        },
        "id": "0Gjs1hohNEI5",
        "outputId": "fa2a0444-592b-4fc6-8ef5-f2261ae94f8a"
      },
      "source": [
        "tf.shape"
      ],
      "execution_count": 29,
      "outputs": [
        {
          "output_type": "execute_result",
          "data": {
            "text/plain": [
              "(18285, 17534)"
            ]
          },
          "metadata": {
            "tags": []
          },
          "execution_count": 29
        }
      ]
    },
    {
      "cell_type": "markdown",
      "metadata": {
        "id": "0PVZ9939NEI5"
      },
      "source": [
        "## Train Test Split "
      ]
    },
    {
      "cell_type": "code",
      "metadata": {
        "id": "lk6uujzZNEI6"
      },
      "source": [
        "from sklearn.model_selection import train_test_split"
      ],
      "execution_count": 30,
      "outputs": []
    },
    {
      "cell_type": "code",
      "metadata": {
        "id": "H374v8WsNEI6"
      },
      "source": [
        "msg_train,msg_test,tar_train,tar_test=train_test_split(tf,tar,test_size=0.3,random_state=0)"
      ],
      "execution_count": 31,
      "outputs": []
    },
    {
      "cell_type": "code",
      "metadata": {
        "id": "B1E43QKENEI6"
      },
      "source": [
        "classifier_mod=MultinomialNB()"
      ],
      "execution_count": 32,
      "outputs": []
    },
    {
      "cell_type": "code",
      "metadata": {
        "colab": {
          "base_uri": "https://localhost:8080/"
        },
        "id": "WCNLeW4LNEI6",
        "outputId": "36530798-0647-4665-d67a-216746410895"
      },
      "source": [
        "classifier_mod.fit(msg_train,tar_train)"
      ],
      "execution_count": 33,
      "outputs": [
        {
          "output_type": "execute_result",
          "data": {
            "text/plain": [
              "MultinomialNB(alpha=1.0, class_prior=None, fit_prior=True)"
            ]
          },
          "metadata": {
            "tags": []
          },
          "execution_count": 33
        }
      ]
    },
    {
      "cell_type": "code",
      "metadata": {
        "colab": {
          "base_uri": "https://localhost:8080/"
        },
        "id": "UjV47ohwNEI6",
        "outputId": "6878b776-9ac2-49b5-fc67-82259c67a78f"
      },
      "source": [
        "classifier_mod.predict(msg_test)"
      ],
      "execution_count": 34,
      "outputs": [
        {
          "output_type": "execute_result",
          "data": {
            "text/plain": [
              "array([1, 1, 1, ..., 0, 1, 0])"
            ]
          },
          "metadata": {
            "tags": []
          },
          "execution_count": 34
        }
      ]
    },
    {
      "cell_type": "code",
      "metadata": {
        "id": "1N8UHcdqNEI7"
      },
      "source": [
        "cm_pred=classifier_mod.predict(msg_test)"
      ],
      "execution_count": 35,
      "outputs": []
    },
    {
      "cell_type": "markdown",
      "metadata": {
        "id": "KhtcnVsoNEI7"
      },
      "source": [
        "### Metrics Evaluation :"
      ]
    },
    {
      "cell_type": "code",
      "metadata": {
        "id": "Gh9SqW6BNEI7"
      },
      "source": [
        "from sklearn.metrics import confusion_matrix,classification_report,accuracy_score"
      ],
      "execution_count": 36,
      "outputs": []
    },
    {
      "cell_type": "code",
      "metadata": {
        "colab": {
          "base_uri": "https://localhost:8080/"
        },
        "id": "xUdYA2nsNEI7",
        "outputId": "99e7b46a-302a-401e-c3dd-2e22c1deb699"
      },
      "source": [
        "print(classification_report(tar_test,cm_pred))"
      ],
      "execution_count": 37,
      "outputs": [
        {
          "output_type": "stream",
          "text": [
            "              precision    recall  f1-score   support\n",
            "\n",
            "           0       0.79      0.98      0.88      3084\n",
            "           1       0.96      0.68      0.79      2402\n",
            "\n",
            "    accuracy                           0.84      5486\n",
            "   macro avg       0.87      0.83      0.83      5486\n",
            "weighted avg       0.86      0.84      0.84      5486\n",
            "\n"
          ],
          "name": "stdout"
        }
      ]
    },
    {
      "cell_type": "code",
      "metadata": {
        "colab": {
          "base_uri": "https://localhost:8080/"
        },
        "id": "UzJazo6tNEI7",
        "outputId": "74fd1cec-2d7b-4f8e-9750-4fb46749ee0f"
      },
      "source": [
        "print(confusion_matrix(tar_test,cm_pred))"
      ],
      "execution_count": 38,
      "outputs": [
        {
          "output_type": "stream",
          "text": [
            "[[3008   76]\n",
            " [ 780 1622]]\n"
          ],
          "name": "stdout"
        }
      ]
    },
    {
      "cell_type": "code",
      "metadata": {
        "colab": {
          "base_uri": "https://localhost:8080/"
        },
        "id": "J740XRkNNEI8",
        "outputId": "e563bf0f-535b-4b57-a904-d6652063219b"
      },
      "source": [
        "print('The Accuracy Score Is : ',round(accuracy_score(tar_test,cm_pred),2))"
      ],
      "execution_count": 39,
      "outputs": [
        {
          "output_type": "stream",
          "text": [
            "The Accuracy Score Is :  0.84\n"
          ],
          "name": "stdout"
        }
      ]
    },
    {
      "cell_type": "markdown",
      "metadata": {
        "id": "rzvgChBRNEI8"
      },
      "source": [
        "## Pipeline :"
      ]
    },
    {
      "cell_type": "markdown",
      "metadata": {
        "id": "qSsHp1QsNEI8"
      },
      "source": [
        "### Train Test Split  For Pipeline :"
      ]
    },
    {
      "cell_type": "code",
      "metadata": {
        "id": "NLxwKnlwNEI8"
      },
      "source": [
        "X=messages['title']\n",
        "y=messages['label']"
      ],
      "execution_count": 40,
      "outputs": []
    },
    {
      "cell_type": "code",
      "metadata": {
        "colab": {
          "base_uri": "https://localhost:8080/"
        },
        "id": "tJVaq5VXNEI8",
        "outputId": "6ca62ca5-e08c-4b32-daa9-95403b86b4ac"
      },
      "source": [
        "X.shape"
      ],
      "execution_count": 41,
      "outputs": [
        {
          "output_type": "execute_result",
          "data": {
            "text/plain": [
              "(18285,)"
            ]
          },
          "metadata": {
            "tags": []
          },
          "execution_count": 41
        }
      ]
    },
    {
      "cell_type": "code",
      "metadata": {
        "colab": {
          "base_uri": "https://localhost:8080/"
        },
        "id": "3fsLIhsONEI9",
        "outputId": "358c391f-d651-47bc-8908-9b232d2da82b"
      },
      "source": [
        "y.shape"
      ],
      "execution_count": 42,
      "outputs": [
        {
          "output_type": "execute_result",
          "data": {
            "text/plain": [
              "(18285,)"
            ]
          },
          "metadata": {
            "tags": []
          },
          "execution_count": 42
        }
      ]
    },
    {
      "cell_type": "code",
      "metadata": {
        "id": "X4NX0ZLxNEI9"
      },
      "source": [
        "from sklearn.model_selection import train_test_split"
      ],
      "execution_count": 43,
      "outputs": []
    },
    {
      "cell_type": "code",
      "metadata": {
        "id": "94Ok7CWKNEI9"
      },
      "source": [
        " X_train, X_test, y_train, y_test = train_test_split(X, y, test_size=0.2)"
      ],
      "execution_count": 44,
      "outputs": []
    },
    {
      "cell_type": "code",
      "metadata": {
        "colab": {
          "base_uri": "https://localhost:8080/"
        },
        "id": "yL7LFVGPNEI9",
        "outputId": "5c4d9fcd-96a2-42ff-a918-7b55421e15d0"
      },
      "source": [
        "X_train.shape"
      ],
      "execution_count": 45,
      "outputs": [
        {
          "output_type": "execute_result",
          "data": {
            "text/plain": [
              "(14628,)"
            ]
          },
          "metadata": {
            "tags": []
          },
          "execution_count": 45
        }
      ]
    },
    {
      "cell_type": "code",
      "metadata": {
        "colab": {
          "base_uri": "https://localhost:8080/"
        },
        "id": "YKX_vdYQNEI-",
        "outputId": "e08cb621-7d0b-4c7a-de10-d798df6e13bb"
      },
      "source": [
        "y_train.shape"
      ],
      "execution_count": 46,
      "outputs": [
        {
          "output_type": "execute_result",
          "data": {
            "text/plain": [
              "(14628,)"
            ]
          },
          "metadata": {
            "tags": []
          },
          "execution_count": 46
        }
      ]
    },
    {
      "cell_type": "raw",
      "metadata": {
        "id": "zjt0uwjuNEI-"
      },
      "source": [
        ""
      ]
    },
    {
      "cell_type": "markdown",
      "metadata": {
        "id": "Lts7CXs0NEI-"
      },
      "source": [
        "## Pipeline:"
      ]
    },
    {
      "cell_type": "code",
      "metadata": {
        "id": "D4rXNyX8NEI-"
      },
      "source": [
        "from sklearn.feature_extraction.text import CountVectorizer,TfidfTransformer\n",
        "from sklearn.naive_bayes import MultinomialNB\n",
        "from sklearn.pipeline import Pipeline"
      ],
      "execution_count": 47,
      "outputs": []
    },
    {
      "cell_type": "code",
      "metadata": {
        "id": "SlgJO00ZNEI-"
      },
      "source": [
        "pipeline=Pipeline([\n",
        "   ('bow',CountVectorizer()),\n",
        "    ('tfidf',TfidfTransformer()),\n",
        "    ('classifier',MultinomialNB()),\n",
        "])"
      ],
      "execution_count": 48,
      "outputs": []
    },
    {
      "cell_type": "code",
      "metadata": {
        "colab": {
          "base_uri": "https://localhost:8080/"
        },
        "id": "5iJzqhDWNEI_",
        "outputId": "8b3ac969-0645-49fa-b469-9659bfc8c0fb"
      },
      "source": [
        "pipeline.fit(X_train,y_train)"
      ],
      "execution_count": 49,
      "outputs": [
        {
          "output_type": "execute_result",
          "data": {
            "text/plain": [
              "Pipeline(memory=None,\n",
              "         steps=[('bow',\n",
              "                 CountVectorizer(analyzer='word', binary=False,\n",
              "                                 decode_error='strict',\n",
              "                                 dtype=<class 'numpy.int64'>, encoding='utf-8',\n",
              "                                 input='content', lowercase=True, max_df=1.0,\n",
              "                                 max_features=None, min_df=1,\n",
              "                                 ngram_range=(1, 1), preprocessor=None,\n",
              "                                 stop_words=None, strip_accents=None,\n",
              "                                 token_pattern='(?u)\\\\b\\\\w\\\\w+\\\\b',\n",
              "                                 tokenizer=None, vocabulary=None)),\n",
              "                ('tfidf',\n",
              "                 TfidfTransformer(norm='l2', smooth_idf=True,\n",
              "                                  sublinear_tf=False, use_idf=True)),\n",
              "                ('classifier',\n",
              "                 MultinomialNB(alpha=1.0, class_prior=None, fit_prior=True))],\n",
              "         verbose=False)"
            ]
          },
          "metadata": {
            "tags": []
          },
          "execution_count": 49
        }
      ]
    },
    {
      "cell_type": "code",
      "metadata": {
        "colab": {
          "base_uri": "https://localhost:8080/"
        },
        "id": "Nn8pCal6NEI_",
        "outputId": "c6208db6-34c9-478c-b05d-74f8d1b6579e"
      },
      "source": [
        "pipeline.predict(X_test)"
      ],
      "execution_count": 50,
      "outputs": [
        {
          "output_type": "execute_result",
          "data": {
            "text/plain": [
              "array([0, 0, 0, ..., 0, 1, 0])"
            ]
          },
          "metadata": {
            "tags": []
          },
          "execution_count": 50
        }
      ]
    },
    {
      "cell_type": "code",
      "metadata": {
        "id": "NzjyRHoXNEI_"
      },
      "source": [
        "pred=pipeline.predict(X_test)"
      ],
      "execution_count": 51,
      "outputs": []
    },
    {
      "cell_type": "code",
      "metadata": {
        "colab": {
          "base_uri": "https://localhost:8080/",
          "height": 359
        },
        "id": "sr4McGjCNEI_",
        "outputId": "8e541189-a296-450e-efbb-b2aa251270f3"
      },
      "source": [
        "df33=pd.DataFrame({'Actual':y_test,'Predicted':pred})\n",
        "df33.head(10)"
      ],
      "execution_count": 52,
      "outputs": [
        {
          "output_type": "execute_result",
          "data": {
            "text/html": [
              "<div>\n",
              "<style scoped>\n",
              "    .dataframe tbody tr th:only-of-type {\n",
              "        vertical-align: middle;\n",
              "    }\n",
              "\n",
              "    .dataframe tbody tr th {\n",
              "        vertical-align: top;\n",
              "    }\n",
              "\n",
              "    .dataframe thead th {\n",
              "        text-align: right;\n",
              "    }\n",
              "</style>\n",
              "<table border=\"1\" class=\"dataframe\">\n",
              "  <thead>\n",
              "    <tr style=\"text-align: right;\">\n",
              "      <th></th>\n",
              "      <th>Actual</th>\n",
              "      <th>Predicted</th>\n",
              "    </tr>\n",
              "  </thead>\n",
              "  <tbody>\n",
              "    <tr>\n",
              "      <th>15416</th>\n",
              "      <td>1</td>\n",
              "      <td>0</td>\n",
              "    </tr>\n",
              "    <tr>\n",
              "      <th>2334</th>\n",
              "      <td>0</td>\n",
              "      <td>0</td>\n",
              "    </tr>\n",
              "    <tr>\n",
              "      <th>17806</th>\n",
              "      <td>1</td>\n",
              "      <td>0</td>\n",
              "    </tr>\n",
              "    <tr>\n",
              "      <th>15386</th>\n",
              "      <td>1</td>\n",
              "      <td>0</td>\n",
              "    </tr>\n",
              "    <tr>\n",
              "      <th>2383</th>\n",
              "      <td>1</td>\n",
              "      <td>1</td>\n",
              "    </tr>\n",
              "    <tr>\n",
              "      <th>6757</th>\n",
              "      <td>0</td>\n",
              "      <td>0</td>\n",
              "    </tr>\n",
              "    <tr>\n",
              "      <th>16747</th>\n",
              "      <td>0</td>\n",
              "      <td>0</td>\n",
              "    </tr>\n",
              "    <tr>\n",
              "      <th>2208</th>\n",
              "      <td>1</td>\n",
              "      <td>0</td>\n",
              "    </tr>\n",
              "    <tr>\n",
              "      <th>2056</th>\n",
              "      <td>1</td>\n",
              "      <td>1</td>\n",
              "    </tr>\n",
              "    <tr>\n",
              "      <th>4228</th>\n",
              "      <td>0</td>\n",
              "      <td>0</td>\n",
              "    </tr>\n",
              "  </tbody>\n",
              "</table>\n",
              "</div>"
            ],
            "text/plain": [
              "       Actual  Predicted\n",
              "15416       1          0\n",
              "2334        0          0\n",
              "17806       1          0\n",
              "15386       1          0\n",
              "2383        1          1\n",
              "6757        0          0\n",
              "16747       0          0\n",
              "2208        1          0\n",
              "2056        1          1\n",
              "4228        0          0"
            ]
          },
          "metadata": {
            "tags": []
          },
          "execution_count": 52
        }
      ]
    },
    {
      "cell_type": "code",
      "metadata": {
        "id": "eFKmIPRANEJA"
      },
      "source": [
        "from sklearn.metrics import confusion_matrix,classification_report,accuracy_score"
      ],
      "execution_count": 53,
      "outputs": []
    },
    {
      "cell_type": "code",
      "metadata": {
        "colab": {
          "base_uri": "https://localhost:8080/"
        },
        "id": "3K1d17TCNEJA",
        "outputId": "dcf19420-b9bd-4f6d-9bc2-1e35a9bb962a"
      },
      "source": [
        "print(classification_report(y_test,pred))"
      ],
      "execution_count": 54,
      "outputs": [
        {
          "output_type": "stream",
          "text": [
            "              precision    recall  f1-score   support\n",
            "\n",
            "           0       0.81      0.98      0.89      2068\n",
            "           1       0.96      0.71      0.82      1589\n",
            "\n",
            "    accuracy                           0.86      3657\n",
            "   macro avg       0.89      0.84      0.85      3657\n",
            "weighted avg       0.88      0.86      0.86      3657\n",
            "\n"
          ],
          "name": "stdout"
        }
      ]
    },
    {
      "cell_type": "code",
      "metadata": {
        "colab": {
          "base_uri": "https://localhost:8080/"
        },
        "id": "1Gpx8Q4pNEJA",
        "outputId": "64619531-fdb3-41df-9b46-44d81c4050a6"
      },
      "source": [
        "print('The Accuracy Score Is :',round(accuracy_score(y_test,pred),2))"
      ],
      "execution_count": 55,
      "outputs": [
        {
          "output_type": "stream",
          "text": [
            "The Accuracy Score Is : 0.86\n"
          ],
          "name": "stdout"
        }
      ]
    },
    {
      "cell_type": "markdown",
      "metadata": {
        "id": "fMOf_z86NEJA"
      },
      "source": [
        "## As You can see , pipeline proved with better accuracy score and results.."
      ]
    },
    {
      "cell_type": "code",
      "metadata": {
        "id": "LEuIb-WSNEJB"
      },
      "source": [
        ""
      ],
      "execution_count": 55,
      "outputs": []
    }
  ]
}